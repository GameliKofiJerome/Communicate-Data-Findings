{
 "cells": [
  {
   "cell_type": "markdown",
   "metadata": {},
   "source": [
    "# Part I - (FordGoBike System Dataset Exploration)\n",
    "## by (Jerome Gameli Kofi Davor)\n",
    "\n",
    "## Introduction\n",
    "> This data set contains information from the FordGoBike System about individual rides made in a bike-sharing system covering the greater San Francisco Bay area. The dataset has quality and tidyness issues and theses will be addressed after the preliminary data wrangling stage.\n",
    "\n",
    "\n",
    "\n",
    "## Preliminary Wrangling\n"
   ]
  },
  {
   "cell_type": "code",
   "execution_count": 1,
   "metadata": {},
   "outputs": [],
   "source": [
    "# import all packages and set plots to be embedded inline\n",
    "import numpy as np\n",
    "import pandas as pd\n",
    "import matplotlib.pyplot as plt\n",
    "import seaborn as sb\n",
    "\n",
    "%matplotlib inline"
   ]
  },
  {
   "cell_type": "markdown",
   "metadata": {},
   "source": [
    "> Load in your dataset and describe its properties through the questions below. Try and motivate your exploration goals through this section.\n"
   ]
  },
  {
   "cell_type": "code",
   "execution_count": 2,
   "metadata": {},
   "outputs": [
    {
     "data": {
      "text/html": [
       "<div><div id=67ca8d5a-62c1-4759-ac95-bdfcf04cf188 style=\"display:none; background-color:#9D6CFF; color:white; width:200px; height:30px; padding-left:5px; border-radius:4px; flex-direction:row; justify-content:space-around; align-items:center;\" onmouseover=\"this.style.backgroundColor='#BA9BF8'\" onmouseout=\"this.style.backgroundColor='#9D6CFF'\" onclick=\"window.commands?.execute('create-mitosheet-from-dataframe-output');\">See Full Dataframe in Mito</div> <script> if (window.commands?.hasCommand('create-mitosheet-from-dataframe-output')) document.getElementById('67ca8d5a-62c1-4759-ac95-bdfcf04cf188').style.display = 'flex' </script> <table border=\"1\" class=\"dataframe\">\n",
       "  <thead>\n",
       "    <tr style=\"text-align: right;\">\n",
       "      <th></th>\n",
       "      <th>duration_sec</th>\n",
       "      <th>start_time</th>\n",
       "      <th>end_time</th>\n",
       "      <th>start_station_id</th>\n",
       "      <th>start_station_name</th>\n",
       "      <th>start_station_latitude</th>\n",
       "      <th>start_station_longitude</th>\n",
       "      <th>end_station_id</th>\n",
       "      <th>end_station_name</th>\n",
       "      <th>end_station_latitude</th>\n",
       "      <th>end_station_longitude</th>\n",
       "      <th>bike_id</th>\n",
       "      <th>user_type</th>\n",
       "      <th>member_birth_year</th>\n",
       "      <th>member_gender</th>\n",
       "      <th>bike_share_for_all_trip</th>\n",
       "    </tr>\n",
       "  </thead>\n",
       "  <tbody>\n",
       "    <tr>\n",
       "      <th>0</th>\n",
       "      <td>52185</td>\n",
       "      <td>2019-02-28 17:32:10.1450</td>\n",
       "      <td>2019-03-01 08:01:55.9750</td>\n",
       "      <td>21.0</td>\n",
       "      <td>Montgomery St BART Station (Market St at 2nd St)</td>\n",
       "      <td>37.789625</td>\n",
       "      <td>-122.400811</td>\n",
       "      <td>13.0</td>\n",
       "      <td>Commercial St at Montgomery St</td>\n",
       "      <td>37.794231</td>\n",
       "      <td>-122.402923</td>\n",
       "      <td>4902</td>\n",
       "      <td>Customer</td>\n",
       "      <td>1984.0</td>\n",
       "      <td>Male</td>\n",
       "      <td>No</td>\n",
       "    </tr>\n",
       "    <tr>\n",
       "      <th>1</th>\n",
       "      <td>42521</td>\n",
       "      <td>2019-02-28 18:53:21.7890</td>\n",
       "      <td>2019-03-01 06:42:03.0560</td>\n",
       "      <td>23.0</td>\n",
       "      <td>The Embarcadero at Steuart St</td>\n",
       "      <td>37.791464</td>\n",
       "      <td>-122.391034</td>\n",
       "      <td>81.0</td>\n",
       "      <td>Berry St at 4th St</td>\n",
       "      <td>37.775880</td>\n",
       "      <td>-122.393170</td>\n",
       "      <td>2535</td>\n",
       "      <td>Customer</td>\n",
       "      <td>NaN</td>\n",
       "      <td>NaN</td>\n",
       "      <td>No</td>\n",
       "    </tr>\n",
       "    <tr>\n",
       "      <th>2</th>\n",
       "      <td>61854</td>\n",
       "      <td>2019-02-28 12:13:13.2180</td>\n",
       "      <td>2019-03-01 05:24:08.1460</td>\n",
       "      <td>86.0</td>\n",
       "      <td>Market St at Dolores St</td>\n",
       "      <td>37.769305</td>\n",
       "      <td>-122.426826</td>\n",
       "      <td>3.0</td>\n",
       "      <td>Powell St BART Station (Market St at 4th St)</td>\n",
       "      <td>37.786375</td>\n",
       "      <td>-122.404904</td>\n",
       "      <td>5905</td>\n",
       "      <td>Customer</td>\n",
       "      <td>1972.0</td>\n",
       "      <td>Male</td>\n",
       "      <td>No</td>\n",
       "    </tr>\n",
       "    <tr>\n",
       "      <th>3</th>\n",
       "      <td>36490</td>\n",
       "      <td>2019-02-28 17:54:26.0100</td>\n",
       "      <td>2019-03-01 04:02:36.8420</td>\n",
       "      <td>375.0</td>\n",
       "      <td>Grove St at Masonic Ave</td>\n",
       "      <td>37.774836</td>\n",
       "      <td>-122.446546</td>\n",
       "      <td>70.0</td>\n",
       "      <td>Central Ave at Fell St</td>\n",
       "      <td>37.773311</td>\n",
       "      <td>-122.444293</td>\n",
       "      <td>6638</td>\n",
       "      <td>Subscriber</td>\n",
       "      <td>1989.0</td>\n",
       "      <td>Other</td>\n",
       "      <td>No</td>\n",
       "    </tr>\n",
       "    <tr>\n",
       "      <th>4</th>\n",
       "      <td>1585</td>\n",
       "      <td>2019-02-28 23:54:18.5490</td>\n",
       "      <td>2019-03-01 00:20:44.0740</td>\n",
       "      <td>7.0</td>\n",
       "      <td>Frank H Ogawa Plaza</td>\n",
       "      <td>37.804562</td>\n",
       "      <td>-122.271738</td>\n",
       "      <td>222.0</td>\n",
       "      <td>10th Ave at E 15th St</td>\n",
       "      <td>37.792714</td>\n",
       "      <td>-122.248780</td>\n",
       "      <td>4898</td>\n",
       "      <td>Subscriber</td>\n",
       "      <td>1974.0</td>\n",
       "      <td>Male</td>\n",
       "      <td>Yes</td>\n",
       "    </tr>\n",
       "  </tbody>\n",
       "</table></div>"
      ],
      "text/plain": [
       "   duration_sec                start_time                  end_time  \\\n",
       "0         52185  2019-02-28 17:32:10.1450  2019-03-01 08:01:55.9750   \n",
       "1         42521  2019-02-28 18:53:21.7890  2019-03-01 06:42:03.0560   \n",
       "2         61854  2019-02-28 12:13:13.2180  2019-03-01 05:24:08.1460   \n",
       "3         36490  2019-02-28 17:54:26.0100  2019-03-01 04:02:36.8420   \n",
       "4          1585  2019-02-28 23:54:18.5490  2019-03-01 00:20:44.0740   \n",
       "\n",
       "   start_station_id                                start_station_name  \\\n",
       "0              21.0  Montgomery St BART Station (Market St at 2nd St)   \n",
       "1              23.0                     The Embarcadero at Steuart St   \n",
       "2              86.0                           Market St at Dolores St   \n",
       "3             375.0                           Grove St at Masonic Ave   \n",
       "4               7.0                               Frank H Ogawa Plaza   \n",
       "\n",
       "   start_station_latitude  start_station_longitude  end_station_id  \\\n",
       "0               37.789625              -122.400811            13.0   \n",
       "1               37.791464              -122.391034            81.0   \n",
       "2               37.769305              -122.426826             3.0   \n",
       "3               37.774836              -122.446546            70.0   \n",
       "4               37.804562              -122.271738           222.0   \n",
       "\n",
       "                               end_station_name  end_station_latitude  \\\n",
       "0                Commercial St at Montgomery St             37.794231   \n",
       "1                            Berry St at 4th St             37.775880   \n",
       "2  Powell St BART Station (Market St at 4th St)             37.786375   \n",
       "3                        Central Ave at Fell St             37.773311   \n",
       "4                         10th Ave at E 15th St             37.792714   \n",
       "\n",
       "   end_station_longitude  bike_id   user_type  member_birth_year  \\\n",
       "0            -122.402923     4902    Customer             1984.0   \n",
       "1            -122.393170     2535    Customer                NaN   \n",
       "2            -122.404904     5905    Customer             1972.0   \n",
       "3            -122.444293     6638  Subscriber             1989.0   \n",
       "4            -122.248780     4898  Subscriber             1974.0   \n",
       "\n",
       "  member_gender bike_share_for_all_trip  \n",
       "0          Male                      No  \n",
       "1           NaN                      No  \n",
       "2          Male                      No  \n",
       "3         Other                      No  \n",
       "4          Male                     Yes  "
      ]
     },
     "execution_count": 2,
     "metadata": {},
     "output_type": "execute_result"
    }
   ],
   "source": [
    "# Lets load the dataset by storing in a variable that's easy to reminder and work with\n",
    "# Take a quick look using .head()\n",
    "bike_ride = pd.read_csv('201902-fordgobike-tripdata.csv', sep = ',')\n",
    "bike_ride.head()"
   ]
  },
  {
   "cell_type": "code",
   "execution_count": 3,
   "metadata": {},
   "outputs": [
    {
     "data": {
      "text/plain": [
       "(183412, 16)"
      ]
     },
     "execution_count": 3,
     "metadata": {},
     "output_type": "execute_result"
    }
   ],
   "source": [
    "# A look at the shape of our dataset\n",
    "bike_ride.shape"
   ]
  },
  {
   "cell_type": "markdown",
   "metadata": {},
   "source": [
    "The output above indicates a dataset with 183412 rows or records and 16 columns or features"
   ]
  },
  {
   "cell_type": "code",
   "execution_count": 4,
   "metadata": {},
   "outputs": [
    {
     "name": "stdout",
     "output_type": "stream",
     "text": [
      "<class 'pandas.core.frame.DataFrame'>\n",
      "RangeIndex: 183412 entries, 0 to 183411\n",
      "Data columns (total 16 columns):\n",
      " #   Column                   Non-Null Count   Dtype  \n",
      "---  ------                   --------------   -----  \n",
      " 0   duration_sec             183412 non-null  int64  \n",
      " 1   start_time               183412 non-null  object \n",
      " 2   end_time                 183412 non-null  object \n",
      " 3   start_station_id         183215 non-null  float64\n",
      " 4   start_station_name       183215 non-null  object \n",
      " 5   start_station_latitude   183412 non-null  float64\n",
      " 6   start_station_longitude  183412 non-null  float64\n",
      " 7   end_station_id           183215 non-null  float64\n",
      " 8   end_station_name         183215 non-null  object \n",
      " 9   end_station_latitude     183412 non-null  float64\n",
      " 10  end_station_longitude    183412 non-null  float64\n",
      " 11  bike_id                  183412 non-null  int64  \n",
      " 12  user_type                183412 non-null  object \n",
      " 13  member_birth_year        175147 non-null  float64\n",
      " 14  member_gender            175147 non-null  object \n",
      " 15  bike_share_for_all_trip  183412 non-null  object \n",
      "dtypes: float64(7), int64(2), object(7)\n",
      "memory usage: 22.4+ MB\n"
     ]
    }
   ],
   "source": [
    "# Inspect the data types of each column in the dataset using .info()\n",
    "bike_ride.info()"
   ]
  },
  {
   "cell_type": "code",
   "execution_count": 5,
   "metadata": {
    "scrolled": true
   },
   "outputs": [
    {
     "data": {
      "text/html": [
       "<div><div id=2f94c80f-cbff-4c16-9893-440034826235 style=\"display:none; background-color:#9D6CFF; color:white; width:200px; height:30px; padding-left:5px; border-radius:4px; flex-direction:row; justify-content:space-around; align-items:center;\" onmouseover=\"this.style.backgroundColor='#BA9BF8'\" onmouseout=\"this.style.backgroundColor='#9D6CFF'\" onclick=\"window.commands?.execute('create-mitosheet-from-dataframe-output');\">See Full Dataframe in Mito</div> <script> if (window.commands?.hasCommand('create-mitosheet-from-dataframe-output')) document.getElementById('2f94c80f-cbff-4c16-9893-440034826235').style.display = 'flex' </script> <table border=\"1\" class=\"dataframe\">\n",
       "  <thead>\n",
       "    <tr style=\"text-align: right;\">\n",
       "      <th></th>\n",
       "      <th>duration_sec</th>\n",
       "      <th>start_station_id</th>\n",
       "      <th>start_station_latitude</th>\n",
       "      <th>start_station_longitude</th>\n",
       "      <th>end_station_id</th>\n",
       "      <th>end_station_latitude</th>\n",
       "      <th>end_station_longitude</th>\n",
       "      <th>bike_id</th>\n",
       "      <th>member_birth_year</th>\n",
       "    </tr>\n",
       "  </thead>\n",
       "  <tbody>\n",
       "    <tr>\n",
       "      <th>count</th>\n",
       "      <td>183412.000000</td>\n",
       "      <td>183215.000000</td>\n",
       "      <td>183412.000000</td>\n",
       "      <td>183412.000000</td>\n",
       "      <td>183215.000000</td>\n",
       "      <td>183412.000000</td>\n",
       "      <td>183412.000000</td>\n",
       "      <td>183412.000000</td>\n",
       "      <td>175147.000000</td>\n",
       "    </tr>\n",
       "    <tr>\n",
       "      <th>mean</th>\n",
       "      <td>726.078435</td>\n",
       "      <td>138.590427</td>\n",
       "      <td>37.771223</td>\n",
       "      <td>-122.352664</td>\n",
       "      <td>136.249123</td>\n",
       "      <td>37.771427</td>\n",
       "      <td>-122.352250</td>\n",
       "      <td>4472.906375</td>\n",
       "      <td>1984.806437</td>\n",
       "    </tr>\n",
       "    <tr>\n",
       "      <th>std</th>\n",
       "      <td>1794.389780</td>\n",
       "      <td>111.778864</td>\n",
       "      <td>0.099581</td>\n",
       "      <td>0.117097</td>\n",
       "      <td>111.515131</td>\n",
       "      <td>0.099490</td>\n",
       "      <td>0.116673</td>\n",
       "      <td>1664.383394</td>\n",
       "      <td>10.116689</td>\n",
       "    </tr>\n",
       "    <tr>\n",
       "      <th>min</th>\n",
       "      <td>61.000000</td>\n",
       "      <td>3.000000</td>\n",
       "      <td>37.317298</td>\n",
       "      <td>-122.453704</td>\n",
       "      <td>3.000000</td>\n",
       "      <td>37.317298</td>\n",
       "      <td>-122.453704</td>\n",
       "      <td>11.000000</td>\n",
       "      <td>1878.000000</td>\n",
       "    </tr>\n",
       "    <tr>\n",
       "      <th>25%</th>\n",
       "      <td>325.000000</td>\n",
       "      <td>47.000000</td>\n",
       "      <td>37.770083</td>\n",
       "      <td>-122.412408</td>\n",
       "      <td>44.000000</td>\n",
       "      <td>37.770407</td>\n",
       "      <td>-122.411726</td>\n",
       "      <td>3777.000000</td>\n",
       "      <td>1980.000000</td>\n",
       "    </tr>\n",
       "    <tr>\n",
       "      <th>50%</th>\n",
       "      <td>514.000000</td>\n",
       "      <td>104.000000</td>\n",
       "      <td>37.780760</td>\n",
       "      <td>-122.398285</td>\n",
       "      <td>100.000000</td>\n",
       "      <td>37.781010</td>\n",
       "      <td>-122.398279</td>\n",
       "      <td>4958.000000</td>\n",
       "      <td>1987.000000</td>\n",
       "    </tr>\n",
       "    <tr>\n",
       "      <th>75%</th>\n",
       "      <td>796.000000</td>\n",
       "      <td>239.000000</td>\n",
       "      <td>37.797280</td>\n",
       "      <td>-122.286533</td>\n",
       "      <td>235.000000</td>\n",
       "      <td>37.797320</td>\n",
       "      <td>-122.288045</td>\n",
       "      <td>5502.000000</td>\n",
       "      <td>1992.000000</td>\n",
       "    </tr>\n",
       "    <tr>\n",
       "      <th>max</th>\n",
       "      <td>85444.000000</td>\n",
       "      <td>398.000000</td>\n",
       "      <td>37.880222</td>\n",
       "      <td>-121.874119</td>\n",
       "      <td>398.000000</td>\n",
       "      <td>37.880222</td>\n",
       "      <td>-121.874119</td>\n",
       "      <td>6645.000000</td>\n",
       "      <td>2001.000000</td>\n",
       "    </tr>\n",
       "  </tbody>\n",
       "</table></div>"
      ],
      "text/plain": [
       "        duration_sec  start_station_id  start_station_latitude  \\\n",
       "count  183412.000000     183215.000000           183412.000000   \n",
       "mean      726.078435        138.590427               37.771223   \n",
       "std      1794.389780        111.778864                0.099581   \n",
       "min        61.000000          3.000000               37.317298   \n",
       "25%       325.000000         47.000000               37.770083   \n",
       "50%       514.000000        104.000000               37.780760   \n",
       "75%       796.000000        239.000000               37.797280   \n",
       "max     85444.000000        398.000000               37.880222   \n",
       "\n",
       "       start_station_longitude  end_station_id  end_station_latitude  \\\n",
       "count            183412.000000   183215.000000         183412.000000   \n",
       "mean               -122.352664      136.249123             37.771427   \n",
       "std                   0.117097      111.515131              0.099490   \n",
       "min                -122.453704        3.000000             37.317298   \n",
       "25%                -122.412408       44.000000             37.770407   \n",
       "50%                -122.398285      100.000000             37.781010   \n",
       "75%                -122.286533      235.000000             37.797320   \n",
       "max                -121.874119      398.000000             37.880222   \n",
       "\n",
       "       end_station_longitude        bike_id  member_birth_year  \n",
       "count          183412.000000  183412.000000      175147.000000  \n",
       "mean             -122.352250    4472.906375        1984.806437  \n",
       "std                 0.116673    1664.383394          10.116689  \n",
       "min              -122.453704      11.000000        1878.000000  \n",
       "25%              -122.411726    3777.000000        1980.000000  \n",
       "50%              -122.398279    4958.000000        1987.000000  \n",
       "75%              -122.288045    5502.000000        1992.000000  \n",
       "max              -121.874119    6645.000000        2001.000000  "
      ]
     },
     "execution_count": 5,
     "metadata": {},
     "output_type": "execute_result"
    }
   ],
   "source": [
    "# Taking a look the descriptive summary statistics of the numeric data type columns of our dataset\n",
    "bike_ride.describe()"
   ]
  },
  {
   "cell_type": "code",
   "execution_count": 6,
   "metadata": {},
   "outputs": [
    {
     "data": {
      "text/plain": [
       "0"
      ]
     },
     "execution_count": 6,
     "metadata": {},
     "output_type": "execute_result"
    }
   ],
   "source": [
    "# Checking for duplicates entries in the dataset\n",
    "bike_ride.duplicated().sum()"
   ]
  },
  {
   "cell_type": "markdown",
   "metadata": {},
   "source": [
    "The above output shows that there are no duplicate entries in the dataset"
   ]
  },
  {
   "cell_type": "code",
   "execution_count": 7,
   "metadata": {},
   "outputs": [
    {
     "data": {
      "text/plain": [
       "duration_sec                  0\n",
       "start_time                    0\n",
       "end_time                      0\n",
       "start_station_id            197\n",
       "start_station_name          197\n",
       "start_station_latitude        0\n",
       "start_station_longitude       0\n",
       "end_station_id              197\n",
       "end_station_name            197\n",
       "end_station_latitude          0\n",
       "end_station_longitude         0\n",
       "bike_id                       0\n",
       "user_type                     0\n",
       "member_birth_year          8265\n",
       "member_gender              8265\n",
       "bike_share_for_all_trip       0\n",
       "dtype: int64"
      ]
     },
     "execution_count": 7,
     "metadata": {},
     "output_type": "execute_result"
    }
   ],
   "source": [
    "# Checking for null values in the dataset with respect to the columns\n",
    "bike_ride.isnull().sum()"
   ]
  },
  {
   "cell_type": "markdown",
   "metadata": {},
   "source": [
    "The output above shows the existence of null values in six columns of the dataset. The columns member_birth_year and member_gender having the highest number of null values"
   ]
  },
  {
   "cell_type": "code",
   "execution_count": 8,
   "metadata": {},
   "outputs": [
    {
     "data": {
      "text/plain": [
       "Male      130651\n",
       "Female     40844\n",
       "Other       3652\n",
       "Name: member_gender, dtype: int64"
      ]
     },
     "execution_count": 8,
     "metadata": {},
     "output_type": "execute_result"
    }
   ],
   "source": [
    "# Take a look at the total count for each specified gender in the dataset\n",
    "bike_ride.member_gender.value_counts()"
   ]
  },
  {
   "cell_type": "markdown",
   "metadata": {},
   "source": [
    "The above output shows that there are more Male bike riders than Female bike riders, with Other gender been the least"
   ]
  },
  {
   "cell_type": "code",
   "execution_count": 9,
   "metadata": {},
   "outputs": [
    {
     "data": {
      "text/plain": [
       "Subscriber    163544\n",
       "Customer       19868\n",
       "Name: user_type, dtype: int64"
      ]
     },
     "execution_count": 9,
     "metadata": {},
     "output_type": "execute_result"
    }
   ],
   "source": [
    "# Lets check the total counts of bike riders with respect to the different user types\n",
    "bike_ride.user_type.value_counts()"
   ]
  },
  {
   "cell_type": "markdown",
   "metadata": {},
   "source": [
    "This indicates that we have more bike riders who are subscribers of the service than customers"
   ]
  },
  {
   "cell_type": "markdown",
   "metadata": {},
   "source": [
    "### What is the structure of your dataset?\n",
    "\n",
    "1. Duration of each bike ride is in seconds\n",
    "2. User type for persons renting the bike are classified into two groups; 'customers' and 'subscribers'\n",
    "3. The start staion and end station locations are stored in longitutdes and latitudes\n",
    "4. Gender classification of bike users.\n",
    "5. Start and end station ids\n",
    "6. Start station name and end station name\n",
    "7. Member birth year are also stored\n",
    "8. Boolean values for bike share trip data\n",
    "9. The dataset has 183412 rows and 16 columns.\n",
    "\n",
    "### What is/are the main feature(s) of interest in your dataset?\n",
    "\n",
    "- I am intrested in knowing:\n",
    "    1. How subscribers vs customers use the bike share service with respect to:\n",
    "        - Days of the week, \n",
    "        - Age groups, \n",
    "        - Speed\n",
    "        - Ride distance.\n",
    "\n",
    "- I also expect subscribers to have longer ride times and distance covered since they have shown a commitment to the continuous usage of the service. \n",
    "\n",
    "### What features in the dataset do you think will help support your investigation into your feature(s) of interest?\n",
    "\n",
    "- Variables such as age, gender, start station name, end station name, user type, duration, start station longitude, start station latitude, end station longitude and latitude will be of used for this analysis."
   ]
  },
  {
   "cell_type": "markdown",
   "metadata": {},
   "source": [
    "### Documentation of Quality and Structural Issues"
   ]
  },
  {
   "cell_type": "markdown",
   "metadata": {},
   "source": [
    "Both the quality(dirty) and structural(tidiness) issues captured here were gotten visually and programmatically."
   ]
  },
  {
   "cell_type": "markdown",
   "metadata": {},
   "source": [
    "#### Quality (dirty) issues of the dataset \n",
    "\n",
    "- Null values in columns and rows of the dataset.\n",
    "- Wrong data types for most of the columns.\n",
    "- Time values recorded in seconds"
   ]
  },
  {
   "cell_type": "markdown",
   "metadata": {},
   "source": [
    "#### Structural (tidiness) issues of the dataset\n",
    "- Redundant columns in the dataset."
   ]
  },
  {
   "cell_type": "markdown",
   "metadata": {},
   "source": [
    "These issues stated above will be corrected using the define, code and test processes in the data cleaning stage."
   ]
  },
  {
   "cell_type": "markdown",
   "metadata": {},
   "source": [
    "## Data Cleaning"
   ]
  },
  {
   "cell_type": "markdown",
   "metadata": {},
   "source": [
    "### Quality (dirty) issues"
   ]
  },
  {
   "cell_type": "code",
   "execution_count": 10,
   "metadata": {},
   "outputs": [],
   "source": [
    "# before cleaning, lets create copy of this original dataset.\n",
    "\n",
    "bike_df = bike_ride.copy()"
   ]
  },
  {
   "cell_type": "markdown",
   "metadata": {},
   "source": [
    "#### Issue 1: Null values in columns and rows of the dataset"
   ]
  },
  {
   "cell_type": "markdown",
   "metadata": {},
   "source": [
    "#### Define:\n",
    "- Drop all empty and null values"
   ]
  },
  {
   "cell_type": "markdown",
   "metadata": {},
   "source": [
    "#### Code:"
   ]
  },
  {
   "cell_type": "code",
   "execution_count": 11,
   "metadata": {},
   "outputs": [],
   "source": [
    "# Use .dropna() to remove all null values from the dataset.\n",
    "bike_df.dropna(inplace = True)"
   ]
  },
  {
   "cell_type": "markdown",
   "metadata": {},
   "source": [
    "#### Test:"
   ]
  },
  {
   "cell_type": "code",
   "execution_count": 12,
   "metadata": {},
   "outputs": [
    {
     "data": {
      "text/plain": [
       "duration_sec               0\n",
       "start_time                 0\n",
       "end_time                   0\n",
       "start_station_id           0\n",
       "start_station_name         0\n",
       "start_station_latitude     0\n",
       "start_station_longitude    0\n",
       "end_station_id             0\n",
       "end_station_name           0\n",
       "end_station_latitude       0\n",
       "end_station_longitude      0\n",
       "bike_id                    0\n",
       "user_type                  0\n",
       "member_birth_year          0\n",
       "member_gender              0\n",
       "bike_share_for_all_trip    0\n",
       "dtype: int64"
      ]
     },
     "execution_count": 12,
     "metadata": {},
     "output_type": "execute_result"
    }
   ],
   "source": [
    "bike_df.isnull().sum()"
   ]
  },
  {
   "cell_type": "markdown",
   "metadata": {},
   "source": [
    "The output of the test above shows that all null values have been removed"
   ]
  },
  {
   "cell_type": "markdown",
   "metadata": {},
   "source": [
    "#### Issue 2: Wrong data types for most columns"
   ]
  },
  {
   "cell_type": "code",
   "execution_count": 13,
   "metadata": {},
   "outputs": [
    {
     "name": "stdout",
     "output_type": "stream",
     "text": [
      "<class 'pandas.core.frame.DataFrame'>\n",
      "Int64Index: 174952 entries, 0 to 183411\n",
      "Data columns (total 16 columns):\n",
      " #   Column                   Non-Null Count   Dtype  \n",
      "---  ------                   --------------   -----  \n",
      " 0   duration_sec             174952 non-null  int64  \n",
      " 1   start_time               174952 non-null  object \n",
      " 2   end_time                 174952 non-null  object \n",
      " 3   start_station_id         174952 non-null  float64\n",
      " 4   start_station_name       174952 non-null  object \n",
      " 5   start_station_latitude   174952 non-null  float64\n",
      " 6   start_station_longitude  174952 non-null  float64\n",
      " 7   end_station_id           174952 non-null  float64\n",
      " 8   end_station_name         174952 non-null  object \n",
      " 9   end_station_latitude     174952 non-null  float64\n",
      " 10  end_station_longitude    174952 non-null  float64\n",
      " 11  bike_id                  174952 non-null  int64  \n",
      " 12  user_type                174952 non-null  object \n",
      " 13  member_birth_year        174952 non-null  float64\n",
      " 14  member_gender            174952 non-null  object \n",
      " 15  bike_share_for_all_trip  174952 non-null  object \n",
      "dtypes: float64(7), int64(2), object(7)\n",
      "memory usage: 22.7+ MB\n"
     ]
    }
   ],
   "source": [
    "bike_df.info()"
   ]
  },
  {
   "cell_type": "markdown",
   "metadata": {},
   "source": [
    "#### Define 2(a): \n",
    "- Change start time & end time from object to datetime data type."
   ]
  },
  {
   "cell_type": "markdown",
   "metadata": {},
   "source": [
    "#### Code 2(a):"
   ]
  },
  {
   "cell_type": "code",
   "execution_count": 14,
   "metadata": {},
   "outputs": [],
   "source": [
    "# Use .todatetime() to change datatype of start_time and end_time columns to datetime\n",
    "bike_df['start_time'] = pd.to_datetime(bike_df['start_time'])\n",
    "bike_df['end_time'] = pd.to_datetime(bike_df['end_time'])"
   ]
  },
  {
   "cell_type": "markdown",
   "metadata": {},
   "source": [
    "#### Test 2(a):"
   ]
  },
  {
   "cell_type": "code",
   "execution_count": 15,
   "metadata": {
    "scrolled": false
   },
   "outputs": [
    {
     "name": "stdout",
     "output_type": "stream",
     "text": [
      "datetime64[ns]\n",
      "datetime64[ns]\n"
     ]
    }
   ],
   "source": [
    "print(bike_df['start_time'].dtype)\n",
    "print(bike_df['end_time'].dtype)"
   ]
  },
  {
   "cell_type": "markdown",
   "metadata": {},
   "source": [
    "#### Define 2(b): \n",
    "- Change member birth year to int."
   ]
  },
  {
   "cell_type": "markdown",
   "metadata": {},
   "source": [
    "#### Code 2(b):"
   ]
  },
  {
   "cell_type": "code",
   "execution_count": 16,
   "metadata": {},
   "outputs": [],
   "source": [
    "# Use .astype() to change data type of member birth year to int\n",
    "bike_df['member_birth_year'] = bike_df['member_birth_year'].astype('int64')"
   ]
  },
  {
   "cell_type": "markdown",
   "metadata": {},
   "source": [
    "#### Test 2(b):"
   ]
  },
  {
   "cell_type": "code",
   "execution_count": 17,
   "metadata": {},
   "outputs": [
    {
     "name": "stdout",
     "output_type": "stream",
     "text": [
      "int64\n"
     ]
    }
   ],
   "source": [
    "print(bike_df['member_birth_year'].dtype)"
   ]
  },
  {
   "cell_type": "markdown",
   "metadata": {},
   "source": [
    "#### Define 2(c): \n",
    "- Change bike share for all trips to boolean data type."
   ]
  },
  {
   "cell_type": "markdown",
   "metadata": {},
   "source": [
    "#### Code 2(c):"
   ]
  },
  {
   "cell_type": "code",
   "execution_count": 18,
   "metadata": {},
   "outputs": [],
   "source": [
    "# Use .astype() to change datatype of bike_share_for_all_trip column to categorical data type\n",
    "bike_df['bike_share_for_all_trip'] = bike_df['bike_share_for_all_trip'].astype('category')"
   ]
  },
  {
   "cell_type": "markdown",
   "metadata": {},
   "source": [
    "#### Test 2(c):"
   ]
  },
  {
   "cell_type": "code",
   "execution_count": 19,
   "metadata": {},
   "outputs": [
    {
     "name": "stdout",
     "output_type": "stream",
     "text": [
      "category\n"
     ]
    }
   ],
   "source": [
    "print(bike_df['bike_share_for_all_trip'].dtype)"
   ]
  },
  {
   "cell_type": "markdown",
   "metadata": {},
   "source": [
    "#### Define 2(d): \n",
    "- Change member gender data type to a categorical data type"
   ]
  },
  {
   "cell_type": "markdown",
   "metadata": {},
   "source": [
    "#### Code 2(d):"
   ]
  },
  {
   "cell_type": "code",
   "execution_count": 20,
   "metadata": {},
   "outputs": [],
   "source": [
    "# Use .astype() to change datatype of member_gender column to categorical data type\n",
    "bike_df['member_gender'] = bike_df['member_gender'].astype('category')"
   ]
  },
  {
   "cell_type": "markdown",
   "metadata": {},
   "source": [
    "#### Test 2(d):"
   ]
  },
  {
   "cell_type": "code",
   "execution_count": 21,
   "metadata": {},
   "outputs": [
    {
     "name": "stdout",
     "output_type": "stream",
     "text": [
      "category\n"
     ]
    }
   ],
   "source": [
    "print(bike_df['member_gender'].dtype)"
   ]
  },
  {
   "cell_type": "markdown",
   "metadata": {},
   "source": [
    "#### Define 2(e): \n",
    "- Change user type to a categorical data type."
   ]
  },
  {
   "cell_type": "markdown",
   "metadata": {},
   "source": [
    "#### Code 2(e):"
   ]
  },
  {
   "cell_type": "code",
   "execution_count": 22,
   "metadata": {},
   "outputs": [],
   "source": [
    "# Use .astype() to change datatype of user_type column to categorical data type\n",
    "bike_df['user_type'] = bike_df['user_type'].astype('category')"
   ]
  },
  {
   "cell_type": "markdown",
   "metadata": {},
   "source": [
    "#### Test 2(e):"
   ]
  },
  {
   "cell_type": "code",
   "execution_count": 23,
   "metadata": {},
   "outputs": [
    {
     "name": "stdout",
     "output_type": "stream",
     "text": [
      "category\n"
     ]
    }
   ],
   "source": [
    "print(bike_df['member_gender'].dtype)"
   ]
  },
  {
   "cell_type": "markdown",
   "metadata": {},
   "source": [
    "#### Issue 3: Time values recorded in seconds"
   ]
  },
  {
   "cell_type": "markdown",
   "metadata": {},
   "source": [
    "#### Define:\n",
    "- Change duration time from seconds to minute and hours, to improve clarity. Duration taken in minutes is easier to understand."
   ]
  },
  {
   "cell_type": "markdown",
   "metadata": {},
   "source": [
    "#### Code:"
   ]
  },
  {
   "cell_type": "code",
   "execution_count": 24,
   "metadata": {},
   "outputs": [],
   "source": [
    "# Converting seconds to minutes and creating a time duration column for time in mins\n",
    "bike_df['duration_mins'] = bike_df['duration_sec']/ 60\n",
    "\n",
    "# Converting minutes to hours and creating a time duration column time in hours\n",
    "bike_df['duration_hours'] = bike_df['duration_mins']/ 60"
   ]
  },
  {
   "cell_type": "markdown",
   "metadata": {},
   "source": [
    "#### Test:"
   ]
  },
  {
   "cell_type": "code",
   "execution_count": 86,
   "metadata": {},
   "outputs": [
    {
     "name": "stdout",
     "output_type": "stream",
     "text": [
      "duration_sec\n",
      "start_time\n",
      "end_time\n",
      "start_station_name\n",
      "start_station_latitude\n",
      "start_station_longitude\n",
      "end_station_name\n",
      "end_station_latitude\n",
      "end_station_longitude\n",
      "bike_id\n",
      "user_type\n",
      "member_birth_year\n",
      "member_gender\n",
      "bike_share_for_all_trip\n",
      "duration_mins\n",
      "duration_hours\n",
      "start_time_month\n",
      "start_time_dw\n",
      "distance/km\n",
      "speed_km/hr\n",
      "member_age\n",
      "age_group\n"
     ]
    }
   ],
   "source": [
    "for c in bike_df.columns:\n",
    "    print(c)"
   ]
  },
  {
   "cell_type": "markdown",
   "metadata": {},
   "source": [
    "The above output shows two new columns(duration_mins and duration_hours) added to the dataset."
   ]
  },
  {
   "cell_type": "markdown",
   "metadata": {},
   "source": [
    "### Structural (tidiness) Issues"
   ]
  },
  {
   "cell_type": "markdown",
   "metadata": {},
   "source": [
    "#### Issue 1: Redundant columns in the dataset"
   ]
  },
  {
   "cell_type": "markdown",
   "metadata": {},
   "source": [
    "#### Define:\n",
    "- Drop redundant columns that would not add value to the analysis process.\n",
    "    1. start_station_id\n",
    "    2. end_station_id"
   ]
  },
  {
   "cell_type": "markdown",
   "metadata": {},
   "source": [
    "#### Code:"
   ]
  },
  {
   "cell_type": "code",
   "execution_count": 26,
   "metadata": {},
   "outputs": [],
   "source": [
    "# Dropping the start_station_id and end_station_id\n",
    "bike_df.drop(axis = 1, columns = 'start_station_id', inplace = True)\n",
    "bike_df.drop(axis = 1, columns = 'end_station_id', inplace = True)"
   ]
  },
  {
   "cell_type": "markdown",
   "metadata": {},
   "source": [
    "#### Test: "
   ]
  },
  {
   "cell_type": "code",
   "execution_count": 27,
   "metadata": {},
   "outputs": [
    {
     "name": "stdout",
     "output_type": "stream",
     "text": [
      "<class 'pandas.core.frame.DataFrame'>\n",
      "Int64Index: 174952 entries, 0 to 183411\n",
      "Data columns (total 16 columns):\n",
      " #   Column                   Non-Null Count   Dtype         \n",
      "---  ------                   --------------   -----         \n",
      " 0   duration_sec             174952 non-null  int64         \n",
      " 1   start_time               174952 non-null  datetime64[ns]\n",
      " 2   end_time                 174952 non-null  datetime64[ns]\n",
      " 3   start_station_name       174952 non-null  object        \n",
      " 4   start_station_latitude   174952 non-null  float64       \n",
      " 5   start_station_longitude  174952 non-null  float64       \n",
      " 6   end_station_name         174952 non-null  object        \n",
      " 7   end_station_latitude     174952 non-null  float64       \n",
      " 8   end_station_longitude    174952 non-null  float64       \n",
      " 9   bike_id                  174952 non-null  int64         \n",
      " 10  user_type                174952 non-null  category      \n",
      " 11  member_birth_year        174952 non-null  int64         \n",
      " 12  member_gender            174952 non-null  category      \n",
      " 13  bike_share_for_all_trip  174952 non-null  category      \n",
      " 14  duration_mins            174952 non-null  float64       \n",
      " 15  duration_hours           174952 non-null  float64       \n",
      "dtypes: category(3), datetime64[ns](2), float64(6), int64(3), object(2)\n",
      "memory usage: 19.2+ MB\n"
     ]
    }
   ],
   "source": [
    "bike_df.info()"
   ]
  },
  {
   "cell_type": "markdown",
   "metadata": {},
   "source": [
    "The output show the columns have been dropped successfully."
   ]
  },
  {
   "cell_type": "markdown",
   "metadata": {},
   "source": [
    "## Feature Engineering of dataset"
   ]
  },
  {
   "cell_type": "markdown",
   "metadata": {},
   "source": [
    "Although we have just 16 columns in our current dataset, additional data can be extracted. The aim of feature engineering is to enable a deeper analysis of the dataset, and lend a better insight into the analysis. This is done by creating new variables from existing ones with sum, difference, product or ratio.\n",
    "Data such as age, month, days of the week and distance would be extracted from the dataset in order to explore the data further."
   ]
  },
  {
   "cell_type": "markdown",
   "metadata": {},
   "source": [
    "### Extracting Month of the year"
   ]
  },
  {
   "cell_type": "code",
   "execution_count": 28,
   "metadata": {},
   "outputs": [
    {
     "name": "stdout",
     "output_type": "stream",
     "text": [
      "<class 'pandas.core.frame.DataFrame'>\n",
      "Int64Index: 174952 entries, 0 to 183411\n",
      "Data columns (total 17 columns):\n",
      " #   Column                   Non-Null Count   Dtype         \n",
      "---  ------                   --------------   -----         \n",
      " 0   duration_sec             174952 non-null  int64         \n",
      " 1   start_time               174952 non-null  datetime64[ns]\n",
      " 2   end_time                 174952 non-null  datetime64[ns]\n",
      " 3   start_station_name       174952 non-null  object        \n",
      " 4   start_station_latitude   174952 non-null  float64       \n",
      " 5   start_station_longitude  174952 non-null  float64       \n",
      " 6   end_station_name         174952 non-null  object        \n",
      " 7   end_station_latitude     174952 non-null  float64       \n",
      " 8   end_station_longitude    174952 non-null  float64       \n",
      " 9   bike_id                  174952 non-null  int64         \n",
      " 10  user_type                174952 non-null  category      \n",
      " 11  member_birth_year        174952 non-null  int64         \n",
      " 12  member_gender            174952 non-null  category      \n",
      " 13  bike_share_for_all_trip  174952 non-null  category      \n",
      " 14  duration_mins            174952 non-null  float64       \n",
      " 15  duration_hours           174952 non-null  float64       \n",
      " 16  start_time_month         174952 non-null  object        \n",
      "dtypes: category(3), datetime64[ns](2), float64(6), int64(3), object(3)\n",
      "memory usage: 20.5+ MB\n",
      "None\n"
     ]
    }
   ],
   "source": [
    "# Extract month from start_time\n",
    "bike_df['start_time_month'] = bike_df['start_time'].dt.strftime('%b')\n",
    "print(bike_df.info())"
   ]
  },
  {
   "cell_type": "markdown",
   "metadata": {},
   "source": [
    "#### Define:\n",
    "- Change month data type from object to categorical"
   ]
  },
  {
   "cell_type": "markdown",
   "metadata": {},
   "source": [
    "#### Code: "
   ]
  },
  {
   "cell_type": "code",
   "execution_count": 29,
   "metadata": {},
   "outputs": [],
   "source": [
    "# Changing month data type from object to categorical data type\n",
    "bike_df['start_time_month'] = bike_df['start_time_month'].astype('category')"
   ]
  },
  {
   "cell_type": "markdown",
   "metadata": {},
   "source": [
    "#### Test:"
   ]
  },
  {
   "cell_type": "code",
   "execution_count": 30,
   "metadata": {},
   "outputs": [
    {
     "data": {
      "text/plain": [
       "CategoricalDtype(categories=['Feb'], ordered=False)"
      ]
     },
     "execution_count": 30,
     "metadata": {},
     "output_type": "execute_result"
    }
   ],
   "source": [
    "bike_df['start_time_month'].dtype"
   ]
  },
  {
   "cell_type": "markdown",
   "metadata": {},
   "source": [
    "### Days of the week"
   ]
  },
  {
   "cell_type": "code",
   "execution_count": 31,
   "metadata": {},
   "outputs": [
    {
     "data": {
      "text/plain": [
       "dtype('O')"
      ]
     },
     "execution_count": 31,
     "metadata": {},
     "output_type": "execute_result"
    }
   ],
   "source": [
    "#Extract the days of the week from start_time\n",
    "bike_df['start_time_dw'] = bike_df['start_time'].dt.strftime('%a')\n",
    "bike_df['start_time_dw'].dtype"
   ]
  },
  {
   "cell_type": "markdown",
   "metadata": {},
   "source": [
    "#### Define:\n",
    "- Change days of the weeek data type from object to categorical"
   ]
  },
  {
   "cell_type": "markdown",
   "metadata": {},
   "source": [
    "#### Code:"
   ]
  },
  {
   "cell_type": "code",
   "execution_count": 32,
   "metadata": {},
   "outputs": [],
   "source": [
    "# Changing the data type start time for the days of the week from object to categorical data type\n",
    "bike_df['start_time_dw'] = bike_df['start_time_dw'].astype('category')"
   ]
  },
  {
   "cell_type": "markdown",
   "metadata": {},
   "source": [
    "#### Test:"
   ]
  },
  {
   "cell_type": "code",
   "execution_count": 33,
   "metadata": {},
   "outputs": [
    {
     "data": {
      "text/plain": [
       "CategoricalDtype(categories=['Fri', 'Mon', 'Sat', 'Sun', 'Thu', 'Tue', 'Wed'], ordered=False)"
      ]
     },
     "execution_count": 33,
     "metadata": {},
     "output_type": "execute_result"
    }
   ],
   "source": [
    "# a check to verify the data type of the column has been converted\n",
    "bike_df['start_time_dw'].dtype"
   ]
  },
  {
   "cell_type": "markdown",
   "metadata": {},
   "source": [
    "### Distances Covered"
   ]
  },
  {
   "cell_type": "markdown",
   "metadata": {},
   "source": [
    "#### Define:\n",
    "- Calculate distance covered from start point to end point for each bike ride"
   ]
  },
  {
   "cell_type": "markdown",
   "metadata": {},
   "source": [
    "#### Code: "
   ]
  },
  {
   "cell_type": "code",
   "execution_count": 34,
   "metadata": {},
   "outputs": [],
   "source": [
    "# Import python's math module\n",
    "import math as m\n",
    "\n",
    "# Create function to calculate distance covered by riders\n",
    "def distance_covered(start_point, end_point):\n",
    "    lat1, lon1 = start_point\n",
    "    lat2, lon2 = end_point\n",
    "    r = 6371 #radius of the earth in km\n",
    "    \n",
    "    dis_lat = m.radians(lat2 - lat1)\n",
    "    dis_lon = m.radians(lon2 - lon1)\n",
    "    a = m.sin(dis_lat/2) * m.sin(dis_lat/2) + m.cos(m.radians(lat1)) \\\n",
    "* m.cos(m.radians(lat2)) * m.sin(dis_lon/2) * m.sin(dis_lon/2)\n",
    "    c = 2 * m.atan2(m.sqrt(a), m.sqrt(1-a))\n",
    "    dist = r * c\n",
    "    return dist"
   ]
  },
  {
   "cell_type": "markdown",
   "metadata": {},
   "source": [
    "The above function for the calculation of the distance covered was gotten from; https://gist.github.com/rochacbruno/2883505"
   ]
  },
  {
   "cell_type": "code",
   "execution_count": 35,
   "metadata": {},
   "outputs": [],
   "source": [
    "# Applying the distance covered function to our dataset\n",
    "bike_df['distance/km'] = bike_df.apply(lambda d: distance_covered([d['start_station_longitude'], d['start_station_latitude']],\n",
    "                                                            [d['end_station_longitude'],d['end_station_latitude']]), axis = 1)"
   ]
  },
  {
   "cell_type": "code",
   "execution_count": 36,
   "metadata": {},
   "outputs": [],
   "source": [
    "#rounding distance/km values to 2 decimal places\n",
    "bike_df['distance/km'] = bike_df['distance/km'].round(decimals = 2)"
   ]
  },
  {
   "cell_type": "markdown",
   "metadata": {},
   "source": [
    "#### Test: "
   ]
  },
  {
   "cell_type": "code",
   "execution_count": 37,
   "metadata": {},
   "outputs": [
    {
     "data": {
      "text/plain": [
       "dtype('float64')"
      ]
     },
     "execution_count": 37,
     "metadata": {},
     "output_type": "execute_result"
    }
   ],
   "source": [
    "bike_df['distance/km'].dtype"
   ]
  },
  {
   "cell_type": "markdown",
   "metadata": {},
   "source": [
    "### Speed"
   ]
  },
  {
   "cell_type": "markdown",
   "metadata": {},
   "source": [
    "#### Define:\n",
    "- Calculate te speed of the bike rides"
   ]
  },
  {
   "cell_type": "markdown",
   "metadata": {},
   "source": [
    "#### Code:"
   ]
  },
  {
   "cell_type": "code",
   "execution_count": 38,
   "metadata": {},
   "outputs": [],
   "source": [
    "# speed = Distance/time taken (km/hr)\n",
    "bike_df['speed_km/hr'] = bike_df['distance/km'] / bike_df['duration_hours']"
   ]
  },
  {
   "cell_type": "markdown",
   "metadata": {},
   "source": [
    "#### Test:"
   ]
  },
  {
   "cell_type": "code",
   "execution_count": 39,
   "metadata": {},
   "outputs": [
    {
     "data": {
      "text/plain": [
       "dtype('float64')"
      ]
     },
     "execution_count": 39,
     "metadata": {},
     "output_type": "execute_result"
    }
   ],
   "source": [
    "# Checking the data type of the speed column\n",
    "bike_df['speed_km/hr'].dtype"
   ]
  },
  {
   "cell_type": "markdown",
   "metadata": {},
   "source": [
    "### Age of Riders"
   ]
  },
  {
   "cell_type": "code",
   "execution_count": 40,
   "metadata": {},
   "outputs": [],
   "source": [
    "# The data stopped in feburary 2019. \n",
    "# The age of users in the database can be determined using 2018 since\n",
    "#there is a full year's data collected.\n",
    "\n",
    "bike_df['member_age'] = 2018 - bike_df['member_birth_year']"
   ]
  },
  {
   "cell_type": "code",
   "execution_count": 41,
   "metadata": {},
   "outputs": [
    {
     "data": {
      "text/html": [
       "<div><div id=86b14a42-72c2-4630-b2e6-748bfa22457f style=\"display:none; background-color:#9D6CFF; color:white; width:200px; height:30px; padding-left:5px; border-radius:4px; flex-direction:row; justify-content:space-around; align-items:center;\" onmouseover=\"this.style.backgroundColor='#BA9BF8'\" onmouseout=\"this.style.backgroundColor='#9D6CFF'\" onclick=\"window.commands?.execute('create-mitosheet-from-dataframe-output');\">See Full Dataframe in Mito</div> <script> if (window.commands?.hasCommand('create-mitosheet-from-dataframe-output')) document.getElementById('86b14a42-72c2-4630-b2e6-748bfa22457f').style.display = 'flex' </script> <table border=\"1\" class=\"dataframe\">\n",
       "  <thead>\n",
       "    <tr style=\"text-align: right;\">\n",
       "      <th></th>\n",
       "      <th>duration_sec</th>\n",
       "      <th>start_time</th>\n",
       "      <th>end_time</th>\n",
       "      <th>start_station_name</th>\n",
       "      <th>start_station_latitude</th>\n",
       "      <th>start_station_longitude</th>\n",
       "      <th>end_station_name</th>\n",
       "      <th>end_station_latitude</th>\n",
       "      <th>end_station_longitude</th>\n",
       "      <th>bike_id</th>\n",
       "      <th>...</th>\n",
       "      <th>member_birth_year</th>\n",
       "      <th>member_gender</th>\n",
       "      <th>bike_share_for_all_trip</th>\n",
       "      <th>duration_mins</th>\n",
       "      <th>duration_hours</th>\n",
       "      <th>start_time_month</th>\n",
       "      <th>start_time_dw</th>\n",
       "      <th>distance/km</th>\n",
       "      <th>speed_km/hr</th>\n",
       "      <th>member_age</th>\n",
       "    </tr>\n",
       "  </thead>\n",
       "  <tbody>\n",
       "    <tr>\n",
       "      <th>0</th>\n",
       "      <td>52185</td>\n",
       "      <td>2019-02-28 17:32:10.145</td>\n",
       "      <td>2019-03-01 08:01:55.975</td>\n",
       "      <td>Montgomery St BART Station (Market St at 2nd St)</td>\n",
       "      <td>37.789625</td>\n",
       "      <td>-122.400811</td>\n",
       "      <td>Commercial St at Montgomery St</td>\n",
       "      <td>37.794231</td>\n",
       "      <td>-122.402923</td>\n",
       "      <td>4902</td>\n",
       "      <td>...</td>\n",
       "      <td>1984</td>\n",
       "      <td>Male</td>\n",
       "      <td>No</td>\n",
       "      <td>869.750000</td>\n",
       "      <td>14.495833</td>\n",
       "      <td>Feb</td>\n",
       "      <td>Thu</td>\n",
       "      <td>0.36</td>\n",
       "      <td>0.024835</td>\n",
       "      <td>34</td>\n",
       "    </tr>\n",
       "    <tr>\n",
       "      <th>2</th>\n",
       "      <td>61854</td>\n",
       "      <td>2019-02-28 12:13:13.218</td>\n",
       "      <td>2019-03-01 05:24:08.146</td>\n",
       "      <td>Market St at Dolores St</td>\n",
       "      <td>37.769305</td>\n",
       "      <td>-122.426826</td>\n",
       "      <td>Powell St BART Station (Market St at 4th St)</td>\n",
       "      <td>37.786375</td>\n",
       "      <td>-122.404904</td>\n",
       "      <td>5905</td>\n",
       "      <td>...</td>\n",
       "      <td>1972</td>\n",
       "      <td>Male</td>\n",
       "      <td>No</td>\n",
       "      <td>1030.900000</td>\n",
       "      <td>17.181667</td>\n",
       "      <td>Feb</td>\n",
       "      <td>Thu</td>\n",
       "      <td>2.64</td>\n",
       "      <td>0.153652</td>\n",
       "      <td>46</td>\n",
       "    </tr>\n",
       "    <tr>\n",
       "      <th>3</th>\n",
       "      <td>36490</td>\n",
       "      <td>2019-02-28 17:54:26.010</td>\n",
       "      <td>2019-03-01 04:02:36.842</td>\n",
       "      <td>Grove St at Masonic Ave</td>\n",
       "      <td>37.774836</td>\n",
       "      <td>-122.446546</td>\n",
       "      <td>Central Ave at Fell St</td>\n",
       "      <td>37.773311</td>\n",
       "      <td>-122.444293</td>\n",
       "      <td>6638</td>\n",
       "      <td>...</td>\n",
       "      <td>1989</td>\n",
       "      <td>Other</td>\n",
       "      <td>No</td>\n",
       "      <td>608.166667</td>\n",
       "      <td>10.136111</td>\n",
       "      <td>Feb</td>\n",
       "      <td>Thu</td>\n",
       "      <td>0.27</td>\n",
       "      <td>0.026637</td>\n",
       "      <td>29</td>\n",
       "    </tr>\n",
       "    <tr>\n",
       "      <th>4</th>\n",
       "      <td>1585</td>\n",
       "      <td>2019-02-28 23:54:18.549</td>\n",
       "      <td>2019-03-01 00:20:44.074</td>\n",
       "      <td>Frank H Ogawa Plaza</td>\n",
       "      <td>37.804562</td>\n",
       "      <td>-122.271738</td>\n",
       "      <td>10th Ave at E 15th St</td>\n",
       "      <td>37.792714</td>\n",
       "      <td>-122.248780</td>\n",
       "      <td>4898</td>\n",
       "      <td>...</td>\n",
       "      <td>1974</td>\n",
       "      <td>Male</td>\n",
       "      <td>Yes</td>\n",
       "      <td>26.416667</td>\n",
       "      <td>0.440278</td>\n",
       "      <td>Feb</td>\n",
       "      <td>Thu</td>\n",
       "      <td>2.65</td>\n",
       "      <td>6.018927</td>\n",
       "      <td>44</td>\n",
       "    </tr>\n",
       "    <tr>\n",
       "      <th>5</th>\n",
       "      <td>1793</td>\n",
       "      <td>2019-02-28 23:49:58.632</td>\n",
       "      <td>2019-03-01 00:19:51.760</td>\n",
       "      <td>4th St at Mission Bay Blvd S</td>\n",
       "      <td>37.770407</td>\n",
       "      <td>-122.391198</td>\n",
       "      <td>Broadway at Kearny</td>\n",
       "      <td>37.798014</td>\n",
       "      <td>-122.405950</td>\n",
       "      <td>5200</td>\n",
       "      <td>...</td>\n",
       "      <td>1959</td>\n",
       "      <td>Male</td>\n",
       "      <td>No</td>\n",
       "      <td>29.883333</td>\n",
       "      <td>0.498056</td>\n",
       "      <td>Feb</td>\n",
       "      <td>Thu</td>\n",
       "      <td>2.32</td>\n",
       "      <td>4.658115</td>\n",
       "      <td>59</td>\n",
       "    </tr>\n",
       "  </tbody>\n",
       "</table></div>"
      ],
      "text/plain": [
       "   duration_sec              start_time                end_time  \\\n",
       "0         52185 2019-02-28 17:32:10.145 2019-03-01 08:01:55.975   \n",
       "2         61854 2019-02-28 12:13:13.218 2019-03-01 05:24:08.146   \n",
       "3         36490 2019-02-28 17:54:26.010 2019-03-01 04:02:36.842   \n",
       "4          1585 2019-02-28 23:54:18.549 2019-03-01 00:20:44.074   \n",
       "5          1793 2019-02-28 23:49:58.632 2019-03-01 00:19:51.760   \n",
       "\n",
       "                                 start_station_name  start_station_latitude  \\\n",
       "0  Montgomery St BART Station (Market St at 2nd St)               37.789625   \n",
       "2                           Market St at Dolores St               37.769305   \n",
       "3                           Grove St at Masonic Ave               37.774836   \n",
       "4                               Frank H Ogawa Plaza               37.804562   \n",
       "5                      4th St at Mission Bay Blvd S               37.770407   \n",
       "\n",
       "   start_station_longitude                              end_station_name  \\\n",
       "0              -122.400811                Commercial St at Montgomery St   \n",
       "2              -122.426826  Powell St BART Station (Market St at 4th St)   \n",
       "3              -122.446546                        Central Ave at Fell St   \n",
       "4              -122.271738                         10th Ave at E 15th St   \n",
       "5              -122.391198                            Broadway at Kearny   \n",
       "\n",
       "   end_station_latitude  end_station_longitude  bike_id  ...  \\\n",
       "0             37.794231            -122.402923     4902  ...   \n",
       "2             37.786375            -122.404904     5905  ...   \n",
       "3             37.773311            -122.444293     6638  ...   \n",
       "4             37.792714            -122.248780     4898  ...   \n",
       "5             37.798014            -122.405950     5200  ...   \n",
       "\n",
       "  member_birth_year  member_gender bike_share_for_all_trip duration_mins  \\\n",
       "0              1984           Male                      No    869.750000   \n",
       "2              1972           Male                      No   1030.900000   \n",
       "3              1989          Other                      No    608.166667   \n",
       "4              1974           Male                     Yes     26.416667   \n",
       "5              1959           Male                      No     29.883333   \n",
       "\n",
       "   duration_hours  start_time_month start_time_dw distance/km  speed_km/hr  \\\n",
       "0       14.495833               Feb           Thu        0.36     0.024835   \n",
       "2       17.181667               Feb           Thu        2.64     0.153652   \n",
       "3       10.136111               Feb           Thu        0.27     0.026637   \n",
       "4        0.440278               Feb           Thu        2.65     6.018927   \n",
       "5        0.498056               Feb           Thu        2.32     4.658115   \n",
       "\n",
       "   member_age  \n",
       "0          34  \n",
       "2          46  \n",
       "3          29  \n",
       "4          44  \n",
       "5          59  \n",
       "\n",
       "[5 rows x 21 columns]"
      ]
     },
     "execution_count": 41,
     "metadata": {},
     "output_type": "execute_result"
    }
   ],
   "source": [
    "bike_df.head()"
   ]
  },
  {
   "cell_type": "code",
   "execution_count": 42,
   "metadata": {},
   "outputs": [
    {
     "data": {
      "text/html": [
       "<div><div id=abb6cf75-2141-4644-bf46-946e137b0e77 style=\"display:none; background-color:#9D6CFF; color:white; width:200px; height:30px; padding-left:5px; border-radius:4px; flex-direction:row; justify-content:space-around; align-items:center;\" onmouseover=\"this.style.backgroundColor='#BA9BF8'\" onmouseout=\"this.style.backgroundColor='#9D6CFF'\" onclick=\"window.commands?.execute('create-mitosheet-from-dataframe-output');\">See Full Dataframe in Mito</div> <script> if (window.commands?.hasCommand('create-mitosheet-from-dataframe-output')) document.getElementById('abb6cf75-2141-4644-bf46-946e137b0e77').style.display = 'flex' </script> <table border=\"1\" class=\"dataframe\">\n",
       "  <thead>\n",
       "    <tr style=\"text-align: right;\">\n",
       "      <th></th>\n",
       "      <th>duration_sec</th>\n",
       "      <th>start_station_latitude</th>\n",
       "      <th>start_station_longitude</th>\n",
       "      <th>end_station_latitude</th>\n",
       "      <th>end_station_longitude</th>\n",
       "      <th>bike_id</th>\n",
       "      <th>member_birth_year</th>\n",
       "      <th>duration_mins</th>\n",
       "      <th>duration_hours</th>\n",
       "      <th>distance/km</th>\n",
       "      <th>speed_km/hr</th>\n",
       "      <th>member_age</th>\n",
       "    </tr>\n",
       "  </thead>\n",
       "  <tbody>\n",
       "    <tr>\n",
       "      <th>count</th>\n",
       "      <td>174952.000000</td>\n",
       "      <td>174952.000000</td>\n",
       "      <td>174952.000000</td>\n",
       "      <td>174952.000000</td>\n",
       "      <td>174952.000000</td>\n",
       "      <td>174952.000000</td>\n",
       "      <td>174952.000000</td>\n",
       "      <td>174952.000000</td>\n",
       "      <td>174952.000000</td>\n",
       "      <td>174952.000000</td>\n",
       "      <td>174952.000000</td>\n",
       "      <td>174952.000000</td>\n",
       "    </tr>\n",
       "    <tr>\n",
       "      <th>mean</th>\n",
       "      <td>704.002744</td>\n",
       "      <td>37.771220</td>\n",
       "      <td>-122.351760</td>\n",
       "      <td>37.771414</td>\n",
       "      <td>-122.351335</td>\n",
       "      <td>4482.587555</td>\n",
       "      <td>1984.803135</td>\n",
       "      <td>11.733379</td>\n",
       "      <td>0.195556</td>\n",
       "      <td>1.479254</td>\n",
       "      <td>9.597656</td>\n",
       "      <td>33.196865</td>\n",
       "    </tr>\n",
       "    <tr>\n",
       "      <th>std</th>\n",
       "      <td>1642.204905</td>\n",
       "      <td>0.100391</td>\n",
       "      <td>0.117732</td>\n",
       "      <td>0.100295</td>\n",
       "      <td>0.117294</td>\n",
       "      <td>1659.195937</td>\n",
       "      <td>10.118731</td>\n",
       "      <td>27.370082</td>\n",
       "      <td>0.456168</td>\n",
       "      <td>1.039068</td>\n",
       "      <td>4.464939</td>\n",
       "      <td>10.118731</td>\n",
       "    </tr>\n",
       "    <tr>\n",
       "      <th>min</th>\n",
       "      <td>61.000000</td>\n",
       "      <td>37.317298</td>\n",
       "      <td>-122.453704</td>\n",
       "      <td>37.317298</td>\n",
       "      <td>-122.453704</td>\n",
       "      <td>11.000000</td>\n",
       "      <td>1878.000000</td>\n",
       "      <td>1.016667</td>\n",
       "      <td>0.016944</td>\n",
       "      <td>0.000000</td>\n",
       "      <td>0.000000</td>\n",
       "      <td>17.000000</td>\n",
       "    </tr>\n",
       "    <tr>\n",
       "      <th>25%</th>\n",
       "      <td>323.000000</td>\n",
       "      <td>37.770407</td>\n",
       "      <td>-122.411901</td>\n",
       "      <td>37.770407</td>\n",
       "      <td>-122.411647</td>\n",
       "      <td>3799.000000</td>\n",
       "      <td>1980.000000</td>\n",
       "      <td>5.383333</td>\n",
       "      <td>0.089722</td>\n",
       "      <td>0.770000</td>\n",
       "      <td>6.539683</td>\n",
       "      <td>26.000000</td>\n",
       "    </tr>\n",
       "    <tr>\n",
       "      <th>50%</th>\n",
       "      <td>510.000000</td>\n",
       "      <td>37.780760</td>\n",
       "      <td>-122.398279</td>\n",
       "      <td>37.781010</td>\n",
       "      <td>-122.397437</td>\n",
       "      <td>4960.000000</td>\n",
       "      <td>1987.000000</td>\n",
       "      <td>8.500000</td>\n",
       "      <td>0.141667</td>\n",
       "      <td>1.200000</td>\n",
       "      <td>9.146796</td>\n",
       "      <td>31.000000</td>\n",
       "    </tr>\n",
       "    <tr>\n",
       "      <th>75%</th>\n",
       "      <td>789.000000</td>\n",
       "      <td>37.797320</td>\n",
       "      <td>-122.283093</td>\n",
       "      <td>37.797673</td>\n",
       "      <td>-122.286533</td>\n",
       "      <td>5505.000000</td>\n",
       "      <td>1992.000000</td>\n",
       "      <td>13.150000</td>\n",
       "      <td>0.219167</td>\n",
       "      <td>1.940000</td>\n",
       "      <td>12.490721</td>\n",
       "      <td>38.000000</td>\n",
       "    </tr>\n",
       "    <tr>\n",
       "      <th>max</th>\n",
       "      <td>84548.000000</td>\n",
       "      <td>37.880222</td>\n",
       "      <td>-121.874119</td>\n",
       "      <td>37.880222</td>\n",
       "      <td>-121.874119</td>\n",
       "      <td>6645.000000</td>\n",
       "      <td>2001.000000</td>\n",
       "      <td>1409.133333</td>\n",
       "      <td>23.485556</td>\n",
       "      <td>63.800000</td>\n",
       "      <td>34.451613</td>\n",
       "      <td>140.000000</td>\n",
       "    </tr>\n",
       "  </tbody>\n",
       "</table></div>"
      ],
      "text/plain": [
       "        duration_sec  start_station_latitude  start_station_longitude  \\\n",
       "count  174952.000000           174952.000000            174952.000000   \n",
       "mean      704.002744               37.771220              -122.351760   \n",
       "std      1642.204905                0.100391                 0.117732   \n",
       "min        61.000000               37.317298              -122.453704   \n",
       "25%       323.000000               37.770407              -122.411901   \n",
       "50%       510.000000               37.780760              -122.398279   \n",
       "75%       789.000000               37.797320              -122.283093   \n",
       "max     84548.000000               37.880222              -121.874119   \n",
       "\n",
       "       end_station_latitude  end_station_longitude        bike_id  \\\n",
       "count         174952.000000          174952.000000  174952.000000   \n",
       "mean              37.771414            -122.351335    4482.587555   \n",
       "std                0.100295               0.117294    1659.195937   \n",
       "min               37.317298            -122.453704      11.000000   \n",
       "25%               37.770407            -122.411647    3799.000000   \n",
       "50%               37.781010            -122.397437    4960.000000   \n",
       "75%               37.797673            -122.286533    5505.000000   \n",
       "max               37.880222            -121.874119    6645.000000   \n",
       "\n",
       "       member_birth_year  duration_mins  duration_hours    distance/km  \\\n",
       "count      174952.000000  174952.000000   174952.000000  174952.000000   \n",
       "mean         1984.803135      11.733379        0.195556       1.479254   \n",
       "std            10.118731      27.370082        0.456168       1.039068   \n",
       "min          1878.000000       1.016667        0.016944       0.000000   \n",
       "25%          1980.000000       5.383333        0.089722       0.770000   \n",
       "50%          1987.000000       8.500000        0.141667       1.200000   \n",
       "75%          1992.000000      13.150000        0.219167       1.940000   \n",
       "max          2001.000000    1409.133333       23.485556      63.800000   \n",
       "\n",
       "         speed_km/hr     member_age  \n",
       "count  174952.000000  174952.000000  \n",
       "mean        9.597656      33.196865  \n",
       "std         4.464939      10.118731  \n",
       "min         0.000000      17.000000  \n",
       "25%         6.539683      26.000000  \n",
       "50%         9.146796      31.000000  \n",
       "75%        12.490721      38.000000  \n",
       "max        34.451613     140.000000  "
      ]
     },
     "execution_count": 42,
     "metadata": {},
     "output_type": "execute_result"
    }
   ],
   "source": [
    "bike_df.describe()"
   ]
  },
  {
   "cell_type": "markdown",
   "metadata": {},
   "source": [
    "#### Observation:\n",
    "- The minimum distance covered from the descriptive statistics above is 0(km).\n",
    "\n",
    "- A member with age of 140 years rode for 23.48 hours, covered a distance of 63.8 km at a speed of 34.45km/hr. This would definitely be an outlier that has to be removed."
   ]
  },
  {
   "cell_type": "markdown",
   "metadata": {},
   "source": [
    "### Issue : Rows with distances recorded as 0(km) in the dataset"
   ]
  },
  {
   "cell_type": "markdown",
   "metadata": {},
   "source": [
    "#### Define:\n",
    "- Drop rows the have distance as 0(km)"
   ]
  },
  {
   "cell_type": "markdown",
   "metadata": {},
   "source": [
    "#### Code:"
   ]
  },
  {
   "cell_type": "code",
   "execution_count": 43,
   "metadata": {
    "scrolled": true
   },
   "outputs": [
    {
     "name": "stdout",
     "output_type": "stream",
     "text": [
      "0.0    3458\n",
      "Name: distance/km, dtype: int64\n"
     ]
    }
   ],
   "source": [
    "# Selecting entries with 0 distance\n",
    "no_distance = bike_df[bike_df['distance/km'] == 0]\n",
    "print(no_distance['distance/km'].value_counts());"
   ]
  },
  {
   "cell_type": "code",
   "execution_count": 44,
   "metadata": {},
   "outputs": [],
   "source": [
    "# Dropping selected entries with 0(km) distance\n",
    "bike_df = bike_df.drop(no_distance.index, axis = 0)"
   ]
  },
  {
   "cell_type": "markdown",
   "metadata": {},
   "source": [
    "#### Test:"
   ]
  },
  {
   "cell_type": "code",
   "execution_count": 45,
   "metadata": {},
   "outputs": [
    {
     "data": {
      "text/html": [
       "<div><div id=3427dc73-c039-42e7-9408-ffdaa673620a style=\"display:none; background-color:#9D6CFF; color:white; width:200px; height:30px; padding-left:5px; border-radius:4px; flex-direction:row; justify-content:space-around; align-items:center;\" onmouseover=\"this.style.backgroundColor='#BA9BF8'\" onmouseout=\"this.style.backgroundColor='#9D6CFF'\" onclick=\"window.commands?.execute('create-mitosheet-from-dataframe-output');\">See Full Dataframe in Mito</div> <script> if (window.commands?.hasCommand('create-mitosheet-from-dataframe-output')) document.getElementById('3427dc73-c039-42e7-9408-ffdaa673620a').style.display = 'flex' </script> <table border=\"1\" class=\"dataframe\">\n",
       "  <thead>\n",
       "    <tr style=\"text-align: right;\">\n",
       "      <th></th>\n",
       "      <th>duration_sec</th>\n",
       "      <th>start_time</th>\n",
       "      <th>end_time</th>\n",
       "      <th>start_station_name</th>\n",
       "      <th>start_station_latitude</th>\n",
       "      <th>start_station_longitude</th>\n",
       "      <th>end_station_name</th>\n",
       "      <th>end_station_latitude</th>\n",
       "      <th>end_station_longitude</th>\n",
       "      <th>bike_id</th>\n",
       "      <th>...</th>\n",
       "      <th>member_birth_year</th>\n",
       "      <th>member_gender</th>\n",
       "      <th>bike_share_for_all_trip</th>\n",
       "      <th>duration_mins</th>\n",
       "      <th>duration_hours</th>\n",
       "      <th>start_time_month</th>\n",
       "      <th>start_time_dw</th>\n",
       "      <th>distance/km</th>\n",
       "      <th>speed_km/hr</th>\n",
       "      <th>member_age</th>\n",
       "    </tr>\n",
       "  </thead>\n",
       "  <tbody>\n",
       "  </tbody>\n",
       "</table></div>"
      ],
      "text/plain": [
       "Empty DataFrame\n",
       "Columns: [duration_sec, start_time, end_time, start_station_name, start_station_latitude, start_station_longitude, end_station_name, end_station_latitude, end_station_longitude, bike_id, user_type, member_birth_year, member_gender, bike_share_for_all_trip, duration_mins, duration_hours, start_time_month, start_time_dw, distance/km, speed_km/hr, member_age]\n",
       "Index: []\n",
       "\n",
       "[0 rows x 21 columns]"
      ]
     },
     "execution_count": 45,
     "metadata": {},
     "output_type": "execute_result"
    }
   ],
   "source": [
    "#Verifying if 0km distances covered still exist in our dataset\n",
    "bike_df[bike_df['distance/km'] == 0]"
   ]
  },
  {
   "cell_type": "markdown",
   "metadata": {},
   "source": [
    "The no or zero distance entries have been dropped from the dataset successfully."
   ]
  },
  {
   "cell_type": "markdown",
   "metadata": {},
   "source": [
    "### Issue:  Outliers in the member age column of the dataset"
   ]
  },
  {
   "cell_type": "markdown",
   "metadata": {},
   "source": [
    "#### Define:\n",
    "- Remove outliers from member age variable"
   ]
  },
  {
   "cell_type": "markdown",
   "metadata": {},
   "source": [
    "#### Code: "
   ]
  },
  {
   "cell_type": "code",
   "execution_count": 46,
   "metadata": {},
   "outputs": [
    {
     "data": {
      "text/plain": [
       "191"
      ]
     },
     "execution_count": 46,
     "metadata": {},
     "output_type": "execute_result"
    }
   ],
   "source": [
    "# Set  age outlier >= 80 years old\n",
    "age_outlier = bike_df[bike_df['member_age'] >= 80 ]\n",
    "age_outlier['member_age'].count()"
   ]
  },
  {
   "cell_type": "markdown",
   "metadata": {},
   "source": [
    "The output above shows 191 outliers with an age greater than or equal to 80yrs in the dataset"
   ]
  },
  {
   "cell_type": "code",
   "execution_count": 47,
   "metadata": {},
   "outputs": [],
   "source": [
    "# Remove all outliers from the dataset\n",
    "bike_df = bike_df.drop(age_outlier.index, axis = 0)"
   ]
  },
  {
   "cell_type": "markdown",
   "metadata": {},
   "source": [
    "#### Test:"
   ]
  },
  {
   "cell_type": "code",
   "execution_count": 48,
   "metadata": {},
   "outputs": [
    {
     "data": {
      "text/html": [
       "<div><div id=8bf68ebe-0918-4461-be60-815540a2081e style=\"display:none; background-color:#9D6CFF; color:white; width:200px; height:30px; padding-left:5px; border-radius:4px; flex-direction:row; justify-content:space-around; align-items:center;\" onmouseover=\"this.style.backgroundColor='#BA9BF8'\" onmouseout=\"this.style.backgroundColor='#9D6CFF'\" onclick=\"window.commands?.execute('create-mitosheet-from-dataframe-output');\">See Full Dataframe in Mito</div> <script> if (window.commands?.hasCommand('create-mitosheet-from-dataframe-output')) document.getElementById('8bf68ebe-0918-4461-be60-815540a2081e').style.display = 'flex' </script> <table border=\"1\" class=\"dataframe\">\n",
       "  <thead>\n",
       "    <tr style=\"text-align: right;\">\n",
       "      <th></th>\n",
       "      <th>duration_sec</th>\n",
       "      <th>start_time</th>\n",
       "      <th>end_time</th>\n",
       "      <th>start_station_name</th>\n",
       "      <th>start_station_latitude</th>\n",
       "      <th>start_station_longitude</th>\n",
       "      <th>end_station_name</th>\n",
       "      <th>end_station_latitude</th>\n",
       "      <th>end_station_longitude</th>\n",
       "      <th>bike_id</th>\n",
       "      <th>...</th>\n",
       "      <th>member_birth_year</th>\n",
       "      <th>member_gender</th>\n",
       "      <th>bike_share_for_all_trip</th>\n",
       "      <th>duration_mins</th>\n",
       "      <th>duration_hours</th>\n",
       "      <th>start_time_month</th>\n",
       "      <th>start_time_dw</th>\n",
       "      <th>distance/km</th>\n",
       "      <th>speed_km/hr</th>\n",
       "      <th>member_age</th>\n",
       "    </tr>\n",
       "  </thead>\n",
       "  <tbody>\n",
       "  </tbody>\n",
       "</table></div>"
      ],
      "text/plain": [
       "Empty DataFrame\n",
       "Columns: [duration_sec, start_time, end_time, start_station_name, start_station_latitude, start_station_longitude, end_station_name, end_station_latitude, end_station_longitude, bike_id, user_type, member_birth_year, member_gender, bike_share_for_all_trip, duration_mins, duration_hours, start_time_month, start_time_dw, distance/km, speed_km/hr, member_age]\n",
       "Index: []\n",
       "\n",
       "[0 rows x 21 columns]"
      ]
     },
     "execution_count": 48,
     "metadata": {},
     "output_type": "execute_result"
    }
   ],
   "source": [
    "# Verifying the removal of all outliers for our dataset\n",
    "bike_df[bike_df['member_age'] >= 80]"
   ]
  },
  {
   "cell_type": "markdown",
   "metadata": {},
   "source": [
    "All age outliers have been removed successfully"
   ]
  },
  {
   "cell_type": "code",
   "execution_count": 49,
   "metadata": {},
   "outputs": [
    {
     "data": {
      "text/html": [
       "<div><div id=6a4e313e-a8a9-4b9f-9dab-1bf16917f9d9 style=\"display:none; background-color:#9D6CFF; color:white; width:200px; height:30px; padding-left:5px; border-radius:4px; flex-direction:row; justify-content:space-around; align-items:center;\" onmouseover=\"this.style.backgroundColor='#BA9BF8'\" onmouseout=\"this.style.backgroundColor='#9D6CFF'\" onclick=\"window.commands?.execute('create-mitosheet-from-dataframe-output');\">See Full Dataframe in Mito</div> <script> if (window.commands?.hasCommand('create-mitosheet-from-dataframe-output')) document.getElementById('6a4e313e-a8a9-4b9f-9dab-1bf16917f9d9').style.display = 'flex' </script> <table border=\"1\" class=\"dataframe\">\n",
       "  <thead>\n",
       "    <tr style=\"text-align: right;\">\n",
       "      <th></th>\n",
       "      <th>duration_sec</th>\n",
       "      <th>start_station_latitude</th>\n",
       "      <th>start_station_longitude</th>\n",
       "      <th>end_station_latitude</th>\n",
       "      <th>end_station_longitude</th>\n",
       "      <th>bike_id</th>\n",
       "      <th>member_birth_year</th>\n",
       "      <th>duration_mins</th>\n",
       "      <th>duration_hours</th>\n",
       "      <th>distance/km</th>\n",
       "      <th>speed_km/hr</th>\n",
       "      <th>member_age</th>\n",
       "    </tr>\n",
       "  </thead>\n",
       "  <tbody>\n",
       "    <tr>\n",
       "      <th>count</th>\n",
       "      <td>171303.000000</td>\n",
       "      <td>171303.000000</td>\n",
       "      <td>171303.000000</td>\n",
       "      <td>171303.000000</td>\n",
       "      <td>171303.000000</td>\n",
       "      <td>171303.000000</td>\n",
       "      <td>171303.000000</td>\n",
       "      <td>171303.000000</td>\n",
       "      <td>171303.000000</td>\n",
       "      <td>171303.000000</td>\n",
       "      <td>171303.000000</td>\n",
       "      <td>171303.000000</td>\n",
       "    </tr>\n",
       "    <tr>\n",
       "      <th>mean</th>\n",
       "      <td>682.392474</td>\n",
       "      <td>37.771483</td>\n",
       "      <td>-122.352239</td>\n",
       "      <td>37.771683</td>\n",
       "      <td>-122.351806</td>\n",
       "      <td>4482.164002</td>\n",
       "      <td>1984.877498</td>\n",
       "      <td>11.373208</td>\n",
       "      <td>0.189553</td>\n",
       "      <td>1.509297</td>\n",
       "      <td>9.790699</td>\n",
       "      <td>33.122502</td>\n",
       "    </tr>\n",
       "    <tr>\n",
       "      <th>std</th>\n",
       "      <td>1535.111984</td>\n",
       "      <td>0.099627</td>\n",
       "      <td>0.116985</td>\n",
       "      <td>0.099528</td>\n",
       "      <td>0.116538</td>\n",
       "      <td>1660.016969</td>\n",
       "      <td>9.838262</td>\n",
       "      <td>25.585200</td>\n",
       "      <td>0.426420</td>\n",
       "      <td>1.027008</td>\n",
       "      <td>4.294462</td>\n",
       "      <td>9.838262</td>\n",
       "    </tr>\n",
       "    <tr>\n",
       "      <th>min</th>\n",
       "      <td>61.000000</td>\n",
       "      <td>37.317298</td>\n",
       "      <td>-122.453704</td>\n",
       "      <td>37.317298</td>\n",
       "      <td>-122.453704</td>\n",
       "      <td>11.000000</td>\n",
       "      <td>1939.000000</td>\n",
       "      <td>1.016667</td>\n",
       "      <td>0.016944</td>\n",
       "      <td>0.020000</td>\n",
       "      <td>0.005788</td>\n",
       "      <td>17.000000</td>\n",
       "    </tr>\n",
       "    <tr>\n",
       "      <th>25%</th>\n",
       "      <td>323.000000</td>\n",
       "      <td>37.770407</td>\n",
       "      <td>-122.411901</td>\n",
       "      <td>37.770407</td>\n",
       "      <td>-122.411647</td>\n",
       "      <td>3796.000000</td>\n",
       "      <td>1980.000000</td>\n",
       "      <td>5.383333</td>\n",
       "      <td>0.089722</td>\n",
       "      <td>0.790000</td>\n",
       "      <td>6.694453</td>\n",
       "      <td>26.000000</td>\n",
       "    </tr>\n",
       "    <tr>\n",
       "      <th>50%</th>\n",
       "      <td>508.000000</td>\n",
       "      <td>37.780760</td>\n",
       "      <td>-122.398279</td>\n",
       "      <td>37.781010</td>\n",
       "      <td>-122.397437</td>\n",
       "      <td>4960.000000</td>\n",
       "      <td>1987.000000</td>\n",
       "      <td>8.466667</td>\n",
       "      <td>0.141111</td>\n",
       "      <td>1.220000</td>\n",
       "      <td>9.259615</td>\n",
       "      <td>31.000000</td>\n",
       "    </tr>\n",
       "    <tr>\n",
       "      <th>75%</th>\n",
       "      <td>779.000000</td>\n",
       "      <td>37.797320</td>\n",
       "      <td>-122.283127</td>\n",
       "      <td>37.797320</td>\n",
       "      <td>-122.287610</td>\n",
       "      <td>5505.000000</td>\n",
       "      <td>1992.000000</td>\n",
       "      <td>12.983333</td>\n",
       "      <td>0.216389</td>\n",
       "      <td>1.960000</td>\n",
       "      <td>12.566929</td>\n",
       "      <td>38.000000</td>\n",
       "    </tr>\n",
       "    <tr>\n",
       "      <th>max</th>\n",
       "      <td>84548.000000</td>\n",
       "      <td>37.880222</td>\n",
       "      <td>-121.874119</td>\n",
       "      <td>37.880222</td>\n",
       "      <td>-121.874119</td>\n",
       "      <td>6645.000000</td>\n",
       "      <td>2001.000000</td>\n",
       "      <td>1409.133333</td>\n",
       "      <td>23.485556</td>\n",
       "      <td>63.800000</td>\n",
       "      <td>34.451613</td>\n",
       "      <td>79.000000</td>\n",
       "    </tr>\n",
       "  </tbody>\n",
       "</table></div>"
      ],
      "text/plain": [
       "        duration_sec  start_station_latitude  start_station_longitude  \\\n",
       "count  171303.000000           171303.000000            171303.000000   \n",
       "mean      682.392474               37.771483              -122.352239   \n",
       "std      1535.111984                0.099627                 0.116985   \n",
       "min        61.000000               37.317298              -122.453704   \n",
       "25%       323.000000               37.770407              -122.411901   \n",
       "50%       508.000000               37.780760              -122.398279   \n",
       "75%       779.000000               37.797320              -122.283127   \n",
       "max     84548.000000               37.880222              -121.874119   \n",
       "\n",
       "       end_station_latitude  end_station_longitude        bike_id  \\\n",
       "count         171303.000000          171303.000000  171303.000000   \n",
       "mean              37.771683            -122.351806    4482.164002   \n",
       "std                0.099528               0.116538    1660.016969   \n",
       "min               37.317298            -122.453704      11.000000   \n",
       "25%               37.770407            -122.411647    3796.000000   \n",
       "50%               37.781010            -122.397437    4960.000000   \n",
       "75%               37.797320            -122.287610    5505.000000   \n",
       "max               37.880222            -121.874119    6645.000000   \n",
       "\n",
       "       member_birth_year  duration_mins  duration_hours    distance/km  \\\n",
       "count      171303.000000  171303.000000   171303.000000  171303.000000   \n",
       "mean         1984.877498      11.373208        0.189553       1.509297   \n",
       "std             9.838262      25.585200        0.426420       1.027008   \n",
       "min          1939.000000       1.016667        0.016944       0.020000   \n",
       "25%          1980.000000       5.383333        0.089722       0.790000   \n",
       "50%          1987.000000       8.466667        0.141111       1.220000   \n",
       "75%          1992.000000      12.983333        0.216389       1.960000   \n",
       "max          2001.000000    1409.133333       23.485556      63.800000   \n",
       "\n",
       "         speed_km/hr     member_age  \n",
       "count  171303.000000  171303.000000  \n",
       "mean        9.790699      33.122502  \n",
       "std         4.294462       9.838262  \n",
       "min         0.005788      17.000000  \n",
       "25%         6.694453      26.000000  \n",
       "50%         9.259615      31.000000  \n",
       "75%        12.566929      38.000000  \n",
       "max        34.451613      79.000000  "
      ]
     },
     "execution_count": 49,
     "metadata": {},
     "output_type": "execute_result"
    }
   ],
   "source": [
    "# Re-checking the descriptive statistics summary of the dataset\n",
    "bike_df.describe()"
   ]
  },
  {
   "cell_type": "markdown",
   "metadata": {},
   "source": [
    "## Univariate Exploration\n",
    "\n",
    "> In this section, I will be investigating distributions of individual variables in the dataset. Check for unusual points or outliers which will require a deeper look to clean things up and prepare the dataset to look at relationships between variables."
   ]
  },
  {
   "cell_type": "markdown",
   "metadata": {},
   "source": [
    "### Question 1: What is the month distribution of the dataset ?"
   ]
  },
  {
   "cell_type": "markdown",
   "metadata": {},
   "source": [
    "### Visualization"
   ]
  },
  {
   "cell_type": "code",
   "execution_count": 50,
   "metadata": {},
   "outputs": [],
   "source": [
    "# Lets set the color of all our plots here using seaborn's color_palette function\n",
    "plot_color = sb.color_palette()[0]"
   ]
  },
  {
   "cell_type": "code",
   "execution_count": 51,
   "metadata": {},
   "outputs": [
    {
     "data": {
      "image/png": "[encoded data removed]",
      "text/plain": [
       "<Figure size 432x288 with 1 Axes>"
      ]
     },
     "metadata": {
      "needs_background": "light"
     },
     "output_type": "display_data"
    }
   ],
   "source": [
    "sb.countplot(data = bike_df, x = 'start_time_month', color = plot_color );\n",
    "plt.xlabel('Month')\n",
    "plt.ylabel('Count')\n",
    "plt.title('Monthly distribution of FordGoBike rides');"
   ]
  },
  {
   "cell_type": "markdown",
   "metadata": {},
   "source": [
    "### Observation:"
   ]
  },
  {
   "cell_type": "markdown",
   "metadata": {},
   "source": [
    "As can be seen from the plot, the data  for the the FordGoBike rides only captures feburary 2019."
   ]
  },
  {
   "cell_type": "markdown",
   "metadata": {},
   "source": [
    "### Question 2: What is the difference in distribution of the gender classification with respect to our cleaned dataset and the original dataset?"
   ]
  },
  {
   "cell_type": "markdown",
   "metadata": {},
   "source": [
    "### Visualization: "
   ]
  },
  {
   "cell_type": "code",
   "execution_count": 52,
   "metadata": {
    "scrolled": true
   },
   "outputs": [
    {
     "data": {
      "image/png": "[encoded data removed]",
      "text/plain": [
       "<Figure size 720x360 with 2 Axes>"
      ]
     },
     "metadata": {
      "needs_background": "light"
     },
     "output_type": "display_data"
    }
   ],
   "source": [
    "# A bar chart can be used to depict this categorical data type \n",
    "# Seaborn countplot is used here\n",
    "\n",
    "plt.figure(figsize = [10,5])\n",
    "# Set a title for the whole two plots\n",
    "plt.suptitle('Bar chart of Gender Classification of the FordGoBike Ride Share')\n",
    "# Left plot: Cleaned data\n",
    "plt.subplot(1,2,1)\n",
    "sb.countplot( data = bike_df, x = 'member_gender', color = plot_color)\n",
    "plt.xlabel('Gender classification')\n",
    "plt.ylabel('Count')\n",
    "plt.title('Cleaned data');\n",
    "\n",
    "# Right plot: Original data\n",
    "plt.subplot(1,2,2)\n",
    "sb.countplot( data = bike_ride, x = 'member_gender', color = plot_color)\n",
    "plt.xlabel('Gender classification')\n",
    "plt.ylabel('Count')\n",
    "plt.title('Original Data');"
   ]
  },
  {
   "cell_type": "code",
   "execution_count": 53,
   "metadata": {},
   "outputs": [
    {
     "data": {
      "image/png": "[encoded data removed]",
      "text/plain": [
       "<Figure size 1080x360 with 2 Axes>"
      ]
     },
     "metadata": {},
     "output_type": "display_data"
    }
   ],
   "source": [
    "# Using pie chart to show the distribution\n",
    "# Since it is a categorical datatype with three categories, a pie chart can be used to represent the data\n",
    "\n",
    "plt.figure(figsize =[15,5])\n",
    "plt.suptitle('Pie chart of the Gender Classification of the FordGoBike Ride Share System')\n",
    "\n",
    "# left plot: cleaned data\n",
    "plt.subplot(1,2,1)\n",
    "# return the value counts of the variable\n",
    "data = bike_df['member_gender'].value_counts()\n",
    "plt.pie(data, labels = data.index, autopct='%0.0f%%',startangle = 90, counterclock = True)\n",
    "plt.title('Cleaned data');\n",
    "\n",
    "#right plot: original dataset\n",
    "plt.subplot(1,2,2)\n",
    "# return the value counts of the variable\n",
    "data = bike_ride['member_gender'].value_counts()\n",
    "plt.pie(data, labels = data.index, autopct='%0.0f%%',startangle = 90, counterclock = True)\n",
    "plt.title('Original data');"
   ]
  },
  {
   "cell_type": "markdown",
   "metadata": {},
   "source": [
    "### Observation: "
   ]
  },
  {
   "cell_type": "markdown",
   "metadata": {},
   "source": [
    "From the output of both the bar chart and the pie chart, there is no change before and after cleaning the dataset.\n",
    "Males make up a 75% of the whole bike usage data."
   ]
  },
  {
   "cell_type": "markdown",
   "metadata": {},
   "source": [
    "### Question 3: What is the frequency of usage of FordGoBike bike sharing service by Days of The weak?"
   ]
  },
  {
   "cell_type": "markdown",
   "metadata": {},
   "source": [
    "### Visualization:"
   ]
  },
  {
   "cell_type": "code",
   "execution_count": 54,
   "metadata": {},
   "outputs": [
    {
     "data": {
      "image/png": "[encoded data removed]",
      "text/plain": [
       "<Figure size 432x288 with 1 Axes>"
      ]
     },
     "metadata": {
      "needs_background": "light"
     },
     "output_type": "display_data"
    }
   ],
   "source": [
    "#using seaborn's countplot to visualize the data\n",
    "dw_order = ['Mon','Tue','Wed','Thu','Fri','Sat','Sun']\n",
    "sb.countplot( data = bike_df, x = 'start_time_dw', color = plot_color, order = dw_order);\n",
    "plt.title('Frequency of Ride by Days of the Week')\n",
    "plt.xlabel('Days of the Week')\n",
    "plt.ylabel('Frequency');"
   ]
  },
  {
   "cell_type": "markdown",
   "metadata": {},
   "source": [
    "### Observation:"
   ]
  },
  {
   "cell_type": "markdown",
   "metadata": {},
   "source": [
    "There is a stronger use of the service during the weekdays than weekends. This might suggest that most people use the service to commute to work. A break down of its user type will be usefull and more insightful."
   ]
  },
  {
   "cell_type": "markdown",
   "metadata": {},
   "source": [
    "### Question 4: How many people use bike share for all trips ?"
   ]
  },
  {
   "cell_type": "markdown",
   "metadata": {},
   "source": [
    "### Visualization:"
   ]
  },
  {
   "cell_type": "code",
   "execution_count": 55,
   "metadata": {},
   "outputs": [
    {
     "data": {
      "image/png": "[encoded data removed]",
      "text/plain": [
       "<Figure size 432x288 with 1 Axes>"
      ]
     },
     "metadata": {
      "needs_background": "light"
     },
     "output_type": "display_data"
    }
   ],
   "source": [
    "sb.countplot(data= bike_df, x='bike_share_for_all_trip', color= plot_color);\n",
    "plt.title('Bar Chart of Distribution showing the Use of Bike Share For All Trips')\n",
    "plt.xlabel('Bike Share for All Trip');\n",
    "plt.ylabel('Count');"
   ]
  },
  {
   "cell_type": "code",
   "execution_count": 56,
   "metadata": {},
   "outputs": [
    {
     "data": {
      "image/png": "[encoded data removed]",
      "text/plain": [
       "<Figure size 432x288 with 1 Axes>"
      ]
     },
     "metadata": {},
     "output_type": "display_data"
    }
   ],
   "source": [
    "# Lets look at the above distribution in terms of proportions\n",
    "# using a pie chart\n",
    "\n",
    "data = bike_df['bike_share_for_all_trip'].value_counts()\n",
    "plt.pie( data, labels = data.index, autopct = '%0.0f%%', startangle = 90, counterclock = False);\n",
    "plt.title('A Pie Chart of FordGoBike Share for All Trips');"
   ]
  },
  {
   "cell_type": "markdown",
   "metadata": {},
   "source": [
    "### Observation: "
   ]
  },
  {
   "cell_type": "markdown",
   "metadata": {},
   "source": [
    "From both Visualizations, majority of the users (90%) do not use bike share for all trips."
   ]
  },
  {
   "cell_type": "markdown",
   "metadata": {},
   "source": [
    "### Question 5: What is the difference in user type result before and after cleaning the dataset"
   ]
  },
  {
   "cell_type": "markdown",
   "metadata": {},
   "source": [
    "### Visualization: "
   ]
  },
  {
   "cell_type": "code",
   "execution_count": 57,
   "metadata": {},
   "outputs": [
    {
     "data": {
      "image/png": "[encoded data removed]",
      "text/plain": [
       "<Figure size 1080x360 with 2 Axes>"
      ]
     },
     "metadata": {},
     "output_type": "display_data"
    }
   ],
   "source": [
    "plt.figure(figsize =[15,5])\n",
    "plt.suptitle('Pie Chart of the Percentage of User Types of FordGoBike Share Service')\n",
    "\n",
    "# left plot: cleaned data\n",
    "plt.subplot(1,2,1)\n",
    "# returns the value count of each user type\n",
    "data = bike_df['user_type'].value_counts()\n",
    "plt.pie(data, labels = data.index, autopct='%0.0f%%',startangle = 90, counterclock = False)\n",
    "plt.title('Cleaned Data');\n",
    "\n",
    "# right plot: original data\n",
    "plt.subplot(1,2,2)\n",
    "# returns the value count of each user type\n",
    "data = bike_ride['user_type'].value_counts()\n",
    "plt.pie(data, labels = data.index, autopct='%0.0f%%',startangle = 90, counterclock = False)\n",
    "plt.title('Original Data');"
   ]
  },
  {
   "cell_type": "markdown",
   "metadata": {},
   "source": [
    "### Observation:"
   ]
  },
  {
   "cell_type": "markdown",
   "metadata": {},
   "source": [
    "From the two pie charts, it shows the after cleaning the dataset, there was an increase in subscribers and a decrease in customers. From the left chart (cleaned data), It shows there are more subscribers than customers (casuals). This is a positive indicator for the bike sharing service."
   ]
  },
  {
   "cell_type": "markdown",
   "metadata": {},
   "source": [
    "### Question 6: What is the distribution of distance covered by riders or users of the service?"
   ]
  },
  {
   "cell_type": "markdown",
   "metadata": {},
   "source": [
    "### Visualization:"
   ]
  },
  {
   "cell_type": "code",
   "execution_count": 58,
   "metadata": {},
   "outputs": [
    {
     "data": {
      "text/plain": [
       "count    171303.000000\n",
       "mean          1.509297\n",
       "std           1.027008\n",
       "min           0.020000\n",
       "25%           0.790000\n",
       "50%           1.220000\n",
       "75%           1.960000\n",
       "max          63.800000\n",
       "Name: distance/km, dtype: float64"
      ]
     },
     "execution_count": 58,
     "metadata": {},
     "output_type": "execute_result"
    }
   ],
   "source": [
    "bike_df['distance/km'].describe()"
   ]
  },
  {
   "cell_type": "code",
   "execution_count": 59,
   "metadata": {},
   "outputs": [
    {
     "data": {
      "image/png": "[encoded data removed]",
      "text/plain": [
       "<Figure size 576x360 with 1 Axes>"
      ]
     },
     "metadata": {
      "needs_background": "light"
     },
     "output_type": "display_data"
    }
   ],
   "source": [
    "plt.figure(figsize=[8,5])\n",
    "# this is a quantitative variable so a histogram can be used.\n",
    "bin_edges = np.arange(0, 6, 0.25)\n",
    "plt.hist( data = bike_df, x = 'distance/km', bins = bin_edges);\n",
    "plt.xlabel('Distance(km)', fontsize = 12)\n",
    "plt.title('A Histogram Chart of Distance (km) Covered by Users')\n",
    "plt.xlim([0,6]);"
   ]
  },
  {
   "cell_type": "markdown",
   "metadata": {},
   "source": [
    "### Observation:"
   ]
  },
  {
   "cell_type": "markdown",
   "metadata": {},
   "source": [
    "The above plot show the distance covered is a unimodal distribution and it is also a positively skewed variable"
   ]
  },
  {
   "cell_type": "markdown",
   "metadata": {},
   "source": [
    "### Question 7: What is the member age distributed of users of the ride service?"
   ]
  },
  {
   "cell_type": "markdown",
   "metadata": {},
   "source": [
    "### Visualization:"
   ]
  },
  {
   "cell_type": "code",
   "execution_count": 60,
   "metadata": {},
   "outputs": [
    {
     "data": {
      "image/png": "[encoded data removed]",
      "text/plain": [
       "<Figure size 576x360 with 1 Axes>"
      ]
     },
     "metadata": {
      "needs_background": "light"
     },
     "output_type": "display_data"
    }
   ],
   "source": [
    "plt.figure(figsize = [8,5])\n",
    "bin_edges = np.arange(10, bike_df['member_age'].max()+5, 5)\n",
    "plt.hist(data = bike_df, x = 'member_age', bins = bin_edges);\n",
    "plt.title('A Distribution of Ages of the Users of the Ride Service')\n",
    "plt.xticks(bin_edges, bin_edges);\n",
    "plt.xlabel('Member Age');\n",
    "plt.ylabel('Count');"
   ]
  },
  {
   "cell_type": "markdown",
   "metadata": {},
   "source": [
    "### Observation:"
   ]
  },
  {
   "cell_type": "markdown",
   "metadata": {},
   "source": [
    "The histogram depicts a significant amount of people using the service fall within the ages of 20 - 40 years old. With majority of its users ranging between 25 - 35 years old."
   ]
  },
  {
   "cell_type": "markdown",
   "metadata": {},
   "source": [
    "### Distribution(s) of variable(s) of interest and transformations performed:\n",
    "\n",
    "- In terms of users/riders, there were more male riders than female, and most members were subscribers compared to casual riders. The majority of the members did not use bike share for all of their trips, and most were around 25 to 40 years old\n",
    "\n",
    "- The dataset definetly required cleaning which affected the result of the analysis. After cleaning some of the visuals changed, for instance, the percentage proportion of subscribers vs customers of the ride sharing service.\n",
    "\n",
    "- Outliers were spotted using descriptive statistics and also histogram plot. Many transformations were done at the feature engineering stage which enabled a deeper dive into the analysis of the dataset.\n",
    "\n",
    "### Features investigated, and operations performed on the data:\n",
    "\n",
    "- A comparison between the cleaned data and original data was made and that showed the effectiveness of the cleaned data and how it affects result of the analysis. \n",
    "- Operations were carried out to make the data more suitable for use; changing data types, extracting new data from the existing data, dropping null values, etc."
   ]
  },
  {
   "cell_type": "markdown",
   "metadata": {},
   "source": [
    "## Bivariate Exploration"
   ]
  },
  {
   "cell_type": "markdown",
   "metadata": {},
   "source": [
    "In this section, I will be looking into how subscribers vs customers use the bike sharing service in terms of days of the week, age, gender, ride distance, time duration of rides, etc."
   ]
  },
  {
   "cell_type": "markdown",
   "metadata": {},
   "source": [
    "### Question 1: How is user type ride service usage distributed across days of the week?"
   ]
  },
  {
   "cell_type": "markdown",
   "metadata": {},
   "source": [
    "### Visualization:"
   ]
  },
  {
   "cell_type": "code",
   "execution_count": 78,
   "metadata": {},
   "outputs": [],
   "source": [
    "# Using a clustered bar chart to answer the above question for ride usage for the user types\n",
    "# A function to create a bivariate countplot of two categorical variables\n",
    "def countplot(cat_var1, cat_var2):\n",
    "    plt.figure(figsize = [8,5]);\n",
    "    dw_order = ['Mon', 'Tue', 'Wed', 'Thu', 'Fri', 'Sat', 'Sun']\n",
    "    sb.countplot(data = bike_df, x = cat_var1, hue = cat_var2, order = dw_order);\n",
    "    plt.title('User Type Ride Usage by Days of the Week')\n",
    "    plt.xlabel('Days of Week');\n",
    "    plt.ylabel('Bike Ride Count');"
   ]
  },
  {
   "cell_type": "code",
   "execution_count": 79,
   "metadata": {},
   "outputs": [
    {
     "data": {
      "image/png": "[encoded data removed]",
      "text/plain": [
       "<Figure size 576x360 with 1 Axes>"
      ]
     },
     "metadata": {
      "needs_background": "light"
     },
     "output_type": "display_data"
    }
   ],
   "source": [
    "countplot('start_time_dw','user_type')"
   ]
  },
  {
   "cell_type": "markdown",
   "metadata": {},
   "source": [
    "#### Lets split the above plot into their individual user types and depict them side by side"
   ]
  },
  {
   "cell_type": "code",
   "execution_count": 62,
   "metadata": {},
   "outputs": [
    {
     "data": {
      "text/plain": [
       "<Figure size 1080x360 with 0 Axes>"
      ]
     },
     "metadata": {},
     "output_type": "display_data"
    },
    {
     "data": {
      "image/png": "[encoded data removed]",
      "text/plain": [
       "<Figure size 720x360 with 2 Axes>"
      ]
     },
     "metadata": {
      "needs_background": "light"
     },
     "output_type": "display_data"
    }
   ],
   "source": [
    "# plot the two user type ride usage bar chart side by side fro more insight\n",
    "plt.figure(figsize = [15,5]);\n",
    "dw_order = ['Mon', 'Tue', 'Wed', 'Thu', 'Fri', 'Sat', 'Sun']\n",
    "g = sb.catplot(data= bike_df, x='start_time_dw', col=\"user_type\", kind='count',\n",
    "               sharey = False, order = dw_order, color = plot_color);\n",
    "g.fig.suptitle('User Type Ride Usage by Days of the Week', y = 1.05)\n",
    "g.set_axis_labels(\"Days of the Week\", \"Bike Trip Count\");"
   ]
  },
  {
   "cell_type": "markdown",
   "metadata": {},
   "source": [
    "### Observation:"
   ]
  },
  {
   "cell_type": "markdown",
   "metadata": {},
   "source": [
    "- In the first plot (clustered bar chart), there were much more subscriber usage than customers overall. The drop of volume on weekends for subscribers indicates that they may primarily ride bikes for work commute during work days.\n",
    "\n",
    "- In the second plot, it shows that customers show consistency across the week while subscribers ride mostly during the weekdays with a sharp decline on weekends. Both seem to share the same peak day (Thursday)."
   ]
  },
  {
   "cell_type": "markdown",
   "metadata": {},
   "source": [
    "### Question 2: Is there a difference in the average speeds travelled by each user type?"
   ]
  },
  {
   "cell_type": "markdown",
   "metadata": {},
   "source": [
    "### Visualization:"
   ]
  },
  {
   "cell_type": "code",
   "execution_count": 63,
   "metadata": {},
   "outputs": [
    {
     "name": "stdout",
     "output_type": "stream",
     "text": [
      "user_type\n",
      "Customer      8.168300\n",
      "Subscriber    9.953925\n",
      "Name: speed_km/hr, dtype: float64\n"
     ]
    },
    {
     "data": {
      "image/png": "[encoded data removed]",
      "text/plain": [
       "<Figure size 576x360 with 1 Axes>"
      ]
     },
     "metadata": {
      "needs_background": "light"
     },
     "output_type": "display_data"
    }
   ],
   "source": [
    "plt.figure(figsize = [8,5])\n",
    "data = bike_df.groupby('user_type')['speed_km/hr'].mean().plot( kind = 'bar')\n",
    "plt.xticks(rotation = 0)\n",
    "plt.xlabel('User Types', fontsize =11)\n",
    "plt.ylabel('Average Speed in km/hr', fontsize =11)\n",
    "plt.title('A Chart showing the Average Speed (km/hr) by User Types', y = 1.03);\n",
    "print(bike_df.groupby('user_type')['speed_km/hr'].mean());"
   ]
  },
  {
   "cell_type": "markdown",
   "metadata": {},
   "source": [
    "### Observation:"
   ]
  },
  {
   "cell_type": "markdown",
   "metadata": {},
   "source": [
    "Since speed and distance are relative, the result above gives more meaning to why subscribers have a lower distance travelled. The data shows that customers ride at a lower speed as comapred to subscribers, why?. Can age group be a factor?"
   ]
  },
  {
   "cell_type": "markdown",
   "metadata": {},
   "source": [
    "### Question 3: How much of a factor is the age groupings of users with respect to ride speeds ?"
   ]
  },
  {
   "cell_type": "markdown",
   "metadata": {},
   "source": [
    "#### Specifying the age group classifications\n",
    "- Young adults - (17-39)\n",
    "- Middle aged adults- (40 - 59)\n",
    "- Seniors (60 - 79)"
   ]
  },
  {
   "cell_type": "code",
   "execution_count": 64,
   "metadata": {},
   "outputs": [],
   "source": [
    "# Create a new column and break down user ages into the different age groups\n",
    "\n",
    "bike_df.loc[bike_df['member_age'].between(17,39) , 'age_group'] = 'young_adults'\n",
    "bike_df.loc[bike_df['member_age'].between(40,59), 'age_group'] = 'mid_aged_adults'\n",
    "bike_df.loc[bike_df['member_age'].between(60,79), 'age_group'] = 'seniors'"
   ]
  },
  {
   "cell_type": "code",
   "execution_count": 65,
   "metadata": {},
   "outputs": [
    {
     "data": {
      "text/plain": [
       "0            young_adults\n",
       "2         mid_aged_adults\n",
       "3            young_adults\n",
       "4         mid_aged_adults\n",
       "5         mid_aged_adults\n",
       "               ...       \n",
       "183407       young_adults\n",
       "183408       young_adults\n",
       "183409       young_adults\n",
       "183410       young_adults\n",
       "183411       young_adults\n",
       "Name: age_group, Length: 171303, dtype: object"
      ]
     },
     "execution_count": 65,
     "metadata": {},
     "output_type": "execute_result"
    }
   ],
   "source": [
    "bike_df['age_group']"
   ]
  },
  {
   "cell_type": "code",
   "execution_count": 66,
   "metadata": {},
   "outputs": [
    {
     "data": {
      "text/plain": [
       "user_type   age_group      \n",
       "Customer    young_adults        12751\n",
       "            mid_aged_adults      2745\n",
       "            seniors               163\n",
       "Subscriber  young_adults       122725\n",
       "            mid_aged_adults     29886\n",
       "            seniors              3033\n",
       "Name: age_group, dtype: int64"
      ]
     },
     "execution_count": 66,
     "metadata": {},
     "output_type": "execute_result"
    }
   ],
   "source": [
    "# Lets get the value count for each of the age groupings with respect to user type\n",
    "bike_df.groupby('user_type')['age_group'].value_counts()"
   ]
  },
  {
   "cell_type": "code",
   "execution_count": 67,
   "metadata": {},
   "outputs": [
    {
     "data": {
      "text/plain": [
       "young_adults       81.429210\n",
       "mid_aged_adults    17.529855\n",
       "seniors             1.040935\n",
       "Name: age_group, dtype: float64"
      ]
     },
     "execution_count": 67,
     "metadata": {},
     "output_type": "execute_result"
    }
   ],
   "source": [
    "# Lets look at the percentage proportions of the age groups with respect to customer user type\n",
    "customer = bike_df[bike_df['user_type'] == 'Customer']\n",
    "cust_prop = (customer['age_group'].value_counts() / customer['age_group'].count()) * 100\n",
    "cust_prop"
   ]
  },
  {
   "cell_type": "code",
   "execution_count": 68,
   "metadata": {},
   "outputs": [
    {
     "data": {
      "text/plain": [
       "young_adults       78.849811\n",
       "mid_aged_adults    19.201511\n",
       "seniors             1.948678\n",
       "Name: age_group, dtype: float64"
      ]
     },
     "execution_count": 68,
     "metadata": {},
     "output_type": "execute_result"
    }
   ],
   "source": [
    "# Lets look at the percentage proportions of the age groups with respect to subscriber user type\n",
    "subscriber = bike_df[bike_df['user_type'] == 'Subscriber']\n",
    "sub_prop = (subscriber['age_group'].value_counts() / subscriber['age_group'].count()) * 100\n",
    "sub_prop"
   ]
  },
  {
   "cell_type": "markdown",
   "metadata": {},
   "source": [
    "### Observation: Value counts and Percentage proportions of user type age groupings\n",
    "- From the output of the value count for both user types with respect to age groups, we see that the age groups in the subscriber user type has more users per age group than the of the customer user type's age groupings.\n",
    "\n",
    "\n",
    "- With the percentage proportions of each age groupings with respect to each user type, it is observed that young adults in the customer user type has a higher percentage than that of the subscriber user type."
   ]
  },
  {
   "cell_type": "markdown",
   "metadata": {},
   "source": [
    "### Visualization:"
   ]
  },
  {
   "cell_type": "code",
   "execution_count": 69,
   "metadata": {},
   "outputs": [
    {
     "data": {
      "image/png": "[encoded data removed]",
      "text/plain": [
       "<Figure size 1080x360 with 2 Axes>"
      ]
     },
     "metadata": {
      "needs_background": "light"
     },
     "output_type": "display_data"
    }
   ],
   "source": [
    "plt.figure(figsize =[15,5])\n",
    "plt.suptitle('User Types Classified by Proportion of Age Groupings')\n",
    "\n",
    "# left plot: Subscribers\n",
    "plt.subplot(1,2,1)\n",
    "sub_prop.plot(kind='bar');\n",
    "plt.xlabel('Subsciber Age Group')\n",
    "plt.ylabel('Proportion')\n",
    "plt.xticks(rotation = 0)\n",
    "plt.title('Subcribers');\n",
    "\n",
    "# right plot: Customers\n",
    "plt.subplot(1,2,2)\n",
    "cust_prop.plot(kind='bar', color = 'orange');\n",
    "plt.xlabel('Customer Age Group')\n",
    "plt.ylabel('Proportion')\n",
    "plt.xticks(rotation = 0)\n",
    "plt.title('Customers');\n",
    "plt.show()"
   ]
  },
  {
   "cell_type": "markdown",
   "metadata": {},
   "source": [
    "### Observation:\n",
    "- This shows that both user type categories(subscriber and customer) are populated with young adults."
   ]
  },
  {
   "cell_type": "markdown",
   "metadata": {},
   "source": [
    "###  Question 4: What is the relationship between age of ride users and speed?\n",
    "- Since the user types have a high percentage of young adults, lets take a look at the relationship between speed and each age groupings."
   ]
  },
  {
   "cell_type": "markdown",
   "metadata": {},
   "source": [
    "### Visualization 1:"
   ]
  },
  {
   "cell_type": "code",
   "execution_count": 80,
   "metadata": {},
   "outputs": [],
   "source": [
    "# Using a point plot to depict the trend in speed with respect to age\n",
    "def pointplot(num_var1, num_var2):\n",
    "    plt.figure(figsize=(15,9))\n",
    "    sb.pointplot(data = bike_df, x = num_var1, y = num_var2, scale = .5, errwidth = 0.5, color = plot_color)\n",
    "    plt.title('Member Age vs Speed_km/hr', fontsize=15)\n",
    "    plt.xlabel('Age in Years')\n",
    "    plt.ylabel('Speed in km/hr')\n",
    "    plt.xticks(rotation = 90);"
   ]
  },
  {
   "cell_type": "code",
   "execution_count": 81,
   "metadata": {},
   "outputs": [
    {
     "data": {
      "image/png": "[encoded data removed]",
      "text/plain": [
       "<Figure size 1080x648 with 1 Axes>"
      ]
     },
     "metadata": {
      "needs_background": "light"
     },
     "output_type": "display_data"
    }
   ],
   "source": [
    "pointplot('member_age', 'speed_km/hr')"
   ]
  },
  {
   "cell_type": "markdown",
   "metadata": {},
   "source": [
    "### Observation 1:\n",
    "- The point plot chart above shows that young adults have an higher average speed.\n",
    "- Speed drops as it approaches the middle_aged_adults.\n",
    "- Senior riders have a higher speed fluctuation with the lowest speed recorded within that age group."
   ]
  },
  {
   "cell_type": "markdown",
   "metadata": {},
   "source": [
    "### Visualization 2:"
   ]
  },
  {
   "cell_type": "code",
   "execution_count": 71,
   "metadata": {},
   "outputs": [
    {
     "data": {
      "image/png": "[encoded data removed]",
      "text/plain": [
       "<Figure size 432x288 with 1 Axes>"
      ]
     },
     "metadata": {
      "needs_background": "light"
     },
     "output_type": "display_data"
    }
   ],
   "source": [
    "# Using a box plot to depict the age groups\n",
    "sb.boxplot(data = bike_df, x = 'age_group', y = 'speed_km/hr', color = plot_color);\n",
    "plt.title('A box plot of Age Groups vs Speed_km/hr', fontsize=15)\n",
    "plt.xlabel('Age Groups')\n",
    "plt.ylabel('Speed in km/hr')\n",
    "plt.xticks(rotation = 0 );"
   ]
  },
  {
   "cell_type": "markdown",
   "metadata": {},
   "source": [
    "### Observation 2: \n",
    "- From the box plot above it shows that as age increases, average speed reduces.\n",
    "\n",
    "- This was drilled down because I was interested in customer's lower speed. From the plot above, age class had negligible effect on customer speed as most customers were young adults who move at faster speeds than that of other age groups."
   ]
  },
  {
   "cell_type": "markdown",
   "metadata": {},
   "source": [
    "### Section Observation:\n",
    "Customers were shown to use the service more than Subscribers on weekends while subscribers showed a more consistent usage of the service on weekdays. That might be a result of subscribers using the service as a means of commuting to work. It is not surprising to see that the average distance covered by subscribers was lower than customers.\n",
    "\n",
    "Speed and Distance: The increase in avearge speed with respect to subscribers can also be as a result they trying to get to work on time, which also relates to the drop in distance covered. Meanwhile customers have higher distance hence a slower speed.\n",
    "\n",
    "Also there was an interest in developing age groups to see how that relates to speed and the findings about it were as expected. Generally one would expect that as age increases, average speed also reduces and this was shown in the box plot."
   ]
  },
  {
   "cell_type": "markdown",
   "metadata": {},
   "source": [
    "## Multivariate Exploration\n",
    "\n",
    "Here, plots of three or more variables are created to investigate the previously explored data even further and gain more insight."
   ]
  },
  {
   "cell_type": "markdown",
   "metadata": {},
   "source": [
    "### Question 1: What is the effect of Distance and Speed on Age group, what relationship exist between the three?"
   ]
  },
  {
   "cell_type": "markdown",
   "metadata": {},
   "source": [
    "### Visualization:"
   ]
  },
  {
   "cell_type": "code",
   "execution_count": 72,
   "metadata": {},
   "outputs": [
    {
     "data": {
      "image/png": "[encoded data removed]",
      "text/plain": [
       "<Figure size 552.75x288 with 1 Axes>"
      ]
     },
     "metadata": {
      "needs_background": "light"
     },
     "output_type": "display_data"
    }
   ],
   "source": [
    "# Plotting of a regplot to show the relationship between distance, speed and age groups\n",
    "\n",
    "g = sb.FacetGrid(data = bike_df, hue = 'age_group', height = 4, aspect = 1.5, palette = 'viridis');\n",
    "g = g.map(sb.regplot,'speed_km/hr','distance/km', x_jitter = 0.04, fit_reg = False);\n",
    "g.add_legend()         \n",
    "plt.xlabel('Speed (km/hr)')\n",
    "plt.ylabel('Distance (km)')\n",
    "# Set ylim to zoom in on high concentration of data points\n",
    "plt.ylim(0,10);\n",
    "plt.title('Chart Showing Age Group Distribution by Distance and Speed');"
   ]
  },
  {
   "cell_type": "markdown",
   "metadata": {},
   "source": [
    "### Observation\n",
    "The plot above shows what was confirmed about speed earlier in the analysis. As age increases speed decreases (majority of the seniors speed data points were within 4km/hr and 20 km/hr.\n",
    "Young adults cover the most distance with the highest speed. The data points in the plot show the distribution of age groups with respect to distance and speed."
   ]
  },
  {
   "cell_type": "markdown",
   "metadata": {},
   "source": [
    "### Question 2: Which gender within the two user types uses the ride service more across days of the week?"
   ]
  },
  {
   "cell_type": "markdown",
   "metadata": {},
   "source": [
    "### Visualization"
   ]
  },
  {
   "cell_type": "markdown",
   "metadata": {},
   "source": [
    "We will use a clustered bar plot to depict this relationship between gender, user type and day of week"
   ]
  },
  {
   "cell_type": "code",
   "execution_count": 73,
   "metadata": {},
   "outputs": [
    {
     "data": {
      "image/png": "[encoded data removed]",
      "text/plain": [
       "<Figure size 810.375x360 with 2 Axes>"
      ]
     },
     "metadata": {
      "needs_background": "light"
     },
     "output_type": "display_data"
    }
   ],
   "source": [
    "weekdays = ['Mon', 'Tue', 'Wed', 'Thu', 'Fri', 'Sat', 'Sun']\n",
    "g = sb.catplot(data = bike_df, x ='start_time_dw', col = \"user_type\", hue = 'member_gender', kind = 'count', sharey = False,\n",
    "                order = weekdays)\n",
    "g.set_axis_labels(\"Days of the Week\", \"Bike Ride Count\")\n",
    "g._legend.set_title('Gender')\n",
    "g.set_titles('{col_name}')\n",
    "g.fig.suptitle('FordGoBike ride share Service per User Type and Gender Distributed by Days of the Week', y=1.03, fontsize=14);"
   ]
  },
  {
   "cell_type": "markdown",
   "metadata": {},
   "source": [
    "### Observation\n",
    "From the plot above, males generally use the service more than any other gender. The plots have showen how individual genders contribute to rides on different days of the week. All genders whether they are customers or subscribers, use this service the most on Thursdays than any other day.\n",
    "There is a general number of ride decline across gender on weekends for subscribers. This has been proven earlier but now I get to see what gender contributed largely to this decline."
   ]
  },
  {
   "cell_type": "markdown",
   "metadata": {},
   "source": [
    "### Relationships observed in this part of the investigation and features that strengthened each other:\n",
    "\n",
    "Age groups in the different user types made it visible on the scatter plot areas where different age groups were highly concentrated with respect to their distance covered and speed.\n",
    "\n",
    "### Interesting or surprising interactions between features:\n",
    "\n",
    ">Well there weren't any surprising interactions between features. Instead the interactions between the features strengthened and gave deeper insights into previously explored visualizations."
   ]
  },
  {
   "cell_type": "markdown",
   "metadata": {},
   "source": [
    "## Conclusions"
   ]
  },
  {
   "cell_type": "markdown",
   "metadata": {},
   "source": [
    "### Summary of main findings and steps taken during data exploration"
   ]
  },
  {
   "cell_type": "markdown",
   "metadata": {},
   "source": [
    "In the data exploration stage of my analysis, univariate visualizations helped me understand of my dataset and how clean vs dirty data affects data analysis result.\n",
    "\n",
    "The bivariate visualizations of features in the dataset helped in exploring the relationships between features. Both univariate and bivariate also exposed outliers in the dataset.\n",
    "\n",
    "Multivariate visualizations gave deeper insights and solidified the results gotten from our bivariate exploration of the dataset.\n",
    "\n",
    "__In terms of findings:__\n",
    "- Days of the week: Subscribers used the ride service consistently on weekdays with a sharp decline on weekends whereas Customers saw a consistent usage across the week. They both have a similar peak day, Thursday.\n",
    "\n",
    "- Age groups: The dataset is mostly made up of young adults, meaning that younger people used the ride service the most for the month of Feburary.\n",
    "\n",
    "- Speed & Distance: These are two relative variables. Subscribers saw an increase in speed with a decrease in distance covered while this was vice versa for customers. Also as age of users increased the speed and distance covered decreased.\n",
    "\n",
    "__For Steps taken:__\n",
    "- Creating age groups was the easiest way to classify a large group of data set into categories. This enabled an easier use of a quantitative variable as if it were a qualitative variable.\n",
    "\n",
    "__Worth Noting:__ Age group data points showed the concentration of its different age class with respect to speed and distance. This further strenghtens the point on speed and distance.\n",
    "\n",
    "Finally it was expected that subscribers would have longer ride times and distances covered compared to customers since they had shown a strong commitment to the continuous usage of the ride service but this was not true. The result was in fact the oppposite of my assertions."
   ]
  },
  {
   "cell_type": "code",
   "execution_count": 74,
   "metadata": {
    "scrolled": false
   },
   "outputs": [
    {
     "name": "stdout",
     "output_type": "stream",
     "text": [
      "<class 'pandas.core.frame.DataFrame'>\n",
      "Int64Index: 171303 entries, 0 to 183411\n",
      "Data columns (total 22 columns):\n",
      " #   Column                   Non-Null Count   Dtype         \n",
      "---  ------                   --------------   -----         \n",
      " 0   duration_sec             171303 non-null  int64         \n",
      " 1   start_time               171303 non-null  datetime64[ns]\n",
      " 2   end_time                 171303 non-null  datetime64[ns]\n",
      " 3   start_station_name       171303 non-null  object        \n",
      " 4   start_station_latitude   171303 non-null  float64       \n",
      " 5   start_station_longitude  171303 non-null  float64       \n",
      " 6   end_station_name         171303 non-null  object        \n",
      " 7   end_station_latitude     171303 non-null  float64       \n",
      " 8   end_station_longitude    171303 non-null  float64       \n",
      " 9   bike_id                  171303 non-null  int64         \n",
      " 10  user_type                171303 non-null  category      \n",
      " 11  member_birth_year        171303 non-null  int64         \n",
      " 12  member_gender            171303 non-null  category      \n",
      " 13  bike_share_for_all_trip  171303 non-null  category      \n",
      " 14  duration_mins            171303 non-null  float64       \n",
      " 15  duration_hours           171303 non-null  float64       \n",
      " 16  start_time_month         171303 non-null  category      \n",
      " 17  start_time_dw            171303 non-null  category      \n",
      " 18  distance/km              171303 non-null  float64       \n",
      " 19  speed_km/hr              171303 non-null  float64       \n",
      " 20  member_age               171303 non-null  int64         \n",
      " 21  age_group                171303 non-null  object        \n",
      "dtypes: category(5), datetime64[ns](2), float64(8), int64(4), object(3)\n",
      "memory usage: 28.4+ MB\n"
     ]
    }
   ],
   "source": [
    "bike_df.info()"
   ]
  },
  {
   "cell_type": "code",
   "execution_count": 75,
   "metadata": {},
   "outputs": [],
   "source": [
    "# Save cleaned dataset used in our analysis in a csv file\n",
    "bike_df.to_csv('clean_201902_fordgobike_tripdata.csv')"
   ]
  }
 ],
 "metadata": {
  "kernelspec": {
   "display_name": "Python 3 (ipykernel)",
   "language": "python",
   "name": "python3"
  },
  "language_info": {
   "codemirror_mode": {
    "name": "ipython",
    "version": 3
   },
   "file_extension": ".py",
   "mimetype": "text/x-python",
   "name": "python",
   "nbconvert_exporter": "python",
   "pygments_lexer": "ipython3",
   "version": "3.9.7"
  }
 },
 "nbformat": 4,
 "nbformat_minor": 2
}
